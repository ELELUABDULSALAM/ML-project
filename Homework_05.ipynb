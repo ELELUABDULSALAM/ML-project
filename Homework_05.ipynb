{
 "cells": [
  {
   "cell_type": "markdown",
   "metadata": {
    "button": false,
    "new_sheet": false,
    "run_control": {
     "read_only": false
    }
   },
   "source": [
    "<div class='heading'>\n",
    "    <div style='float:left;'><h1>CPSC 4300/6300: Applied Data Science</h1></div>\n",
    "    <img style=\"float: right; padding-right: 10px; width: 65px\" src=\"https://raw.githubusercontent.com/bsethwalker/clemson-cs4300/main/images/clemson_paw.png\"> </div>\n",
    "\n",
    "\n",
    "## Homework 5: Regression Modeling to Forecast Bike Sharing Usage, Continued\n",
    "\n",
    "**Clemson University**<br>\n",
    "**Fall 2021**<br>\n",
    "**Instructor(s):** Nina Hubig <br>\n",
    "\n",
    "\n",
    "---\n",
    "\n"
   ]
  },
  {
   "cell_type": "code",
   "execution_count": 1,
   "metadata": {
    "button": false,
    "new_sheet": false,
    "run_control": {
     "read_only": false
    }
   },
   "outputs": [
    {
     "data": {
      "text/html": [
       "<style>\n",
       "blockquote { background: #AEDE94; }\n",
       "\n",
       "div.heading {\n",
       "margin-bottom: 25px;\n",
       "height: 75px;\n",
       "}\n",
       "\n",
       "h1 { \n",
       "    padding-top: 25px;\n",
       "    padding-bottom: 25px;\n",
       "    text-align: left; \n",
       "    padding-left: 10px;\n",
       "    color: black;\n",
       "}\n",
       "\n",
       "h2 { \n",
       "    padding-top: 10px;\n",
       "    padding-bottom: 10px;\n",
       "    text-align: left; \n",
       "    padding-left: 5px;\n",
       "    background-color: #EEEEEE; \n",
       "    color: black;\n",
       "}\n",
       "\n",
       "div.exercise {\n",
       "    \n",
       "    background: rgba(245, 102, 0, .75);\n",
       "    border-color: #E9967A;\n",
       "    border-left: 5px solid #522D80; \n",
       "    padding: 0.5em;\n",
       "}\n",
       "\n",
       "div.exercise-r {\n",
       "    background-color: #fce8e8;\n",
       "    border-color: #E9967A; \t\n",
       "    border-left: 5px solid #800080; \n",
       "    padding: 0.5em;\n",
       "}\n",
       "\n",
       "span.sub-q {\n",
       "    font-weight: bold;\n",
       "}\n",
       "div.theme {\n",
       "    background-color: #DDDDDD;\n",
       "    border-color: #E9967A; \t\n",
       "    border-left: 5px solid #800080; \n",
       "    padding: 0.5em;\n",
       "    font-size: 18pt;\n",
       "}\n",
       "div.gc { \n",
       "    background-color: #AEDE94;\n",
       "    border-color: #E9967A; \t \n",
       "    border-left: 5px solid #800080; \n",
       "    padding: 0.5em;\n",
       "    font-size: 12pt;\n",
       "}\n",
       "p.q1 { \n",
       "    padding-top: 5px;\n",
       "    padding-bottom: 5px;\n",
       "    text-align: left; \n",
       "    padding-left: 5px;\n",
       "    background-color: #EEEEEE; \n",
       "    color: black;\n",
       "}\n",
       "header {\n",
       "   padding-top: 35px;\n",
       "    padding-bottom: 35px;\n",
       "    text-align: left; \n",
       "    padding-left: 10px;\n",
       "    background-color: #DDDDDD; \n",
       "    color: black;\n",
       "}\n",
       "</style>"
      ],
      "text/plain": [
       "<IPython.core.display.HTML object>"
      ]
     },
     "execution_count": 1,
     "metadata": {},
     "output_type": "execute_result"
    }
   ],
   "source": [
    "\"\"\" RUN THIS CELL TO GET THE RIGHT FORMATTING \"\"\"\n",
    "import requests\n",
    "from IPython.core.display import HTML\n",
    "css_file = 'https://raw.githubusercontent.com/bsethwalker/clemson-cs4300/main/css/cpsc6300.css'\n",
    "styles = requests.get(css_file).text\n",
    "HTML(styles)"
   ]
  },
  {
   "cell_type": "markdown",
   "metadata": {
    "button": false,
    "new_sheet": false,
    "run_control": {
     "read_only": false
    }
   },
   "source": [
    "### INSTRUCTIONS\n",
    "\n",
    "- To submit your assignment follow the instructions given in Canvas.\n",
    "- Restart the kernel and run the whole notebook again before you submit. \n",
    "- As much as possible, try and stick to the hints and functions we import at the top of the homework, as those are the ideas and tools the class supports and is aiming to teach. And if a problem specifies a particular library you're required to use that library, and possibly others from the import list.\n",
    "- Please use .head() when viewing data. Do not submit a notebook that is excessively long because output was not suppressed or otherwise limited. "
   ]
  },
  {
   "cell_type": "markdown",
   "metadata": {
    "button": false,
    "new_sheet": false,
    "run_control": {
     "read_only": false
    }
   },
   "source": [
    "<hr style=\"height:2pt\">"
   ]
  },
  {
   "cell_type": "markdown",
   "metadata": {
    "run_control": {}
   },
   "source": [
    "<img src=\"https://raw.githubusercontent.com/bsethwalker/clemson-cs4300/main/images/BSS.png\">\n",
    "\n",
    "### Overview \n",
    "\n",
    "You are hired by the administrators of the [Capital Bikeshare program](https://www.capitalbikeshare.com) program in Washington D.C., to **help them predict the hourly demand for rental bikes** and **give them suggestions on how to increase their revenue**. Your task is to prepare a short report summarizing your findings and make recommendations.\n",
    "\n",
    "The predicted hourly demand could be used for planning the number of bikes that need to be available in the system at any given hour of the day. It costs the program money if bike stations are full and bikes cannot be returned, or empty and there are no bikes available. You will use multiple linear regression and polynomial regression and will explore ridge and lasso regression to predict bike usage. The goal is to build a regression model that can predict the total number of bike rentals in a given hour of the day, based on all available information given to you. \n",
    "\n",
    "An example of a suggestion to increase revenue might be to offer discounts during certain times of the day either during holidays or non-holidays. Your suggestions will depend on your observations of the seasonality of ridership.\n",
    "\n",
    "The data for this problem were collected from the Capital Bikeshare program over the course of two years (2011 and 2012).\n",
    "\n"
   ]
  },
  {
   "cell_type": "markdown",
   "metadata": {
    "run_control": {}
   },
   "source": [
    "### Use only the libraries below:"
   ]
  },
  {
   "cell_type": "code",
   "execution_count": 2,
   "metadata": {
    "button": false,
    "new_sheet": false,
    "run_control": {
     "read_only": false
    }
   },
   "outputs": [],
   "source": [
    "import numpy as np\n",
    "import pandas as pd\n",
    "import matplotlib\n",
    "import matplotlib.pyplot as plt\n",
    "\n",
    "import statsmodels.api as sm\n",
    "from statsmodels.api import OLS\n",
    "\n",
    "from sklearn.model_selection import train_test_split\n",
    "from sklearn.preprocessing import PolynomialFeatures\n",
    "from sklearn.preprocessing import StandardScaler\n",
    "from sklearn.linear_model import LinearRegression\n",
    "from sklearn.linear_model import Ridge\n",
    "from sklearn.linear_model import RidgeCV\n",
    "from sklearn.linear_model import LassoCV\n",
    "from sklearn.metrics import r2_score\n",
    "\n",
    "from pandas.plotting import scatter_matrix"
   ]
  },
  {
   "cell_type": "markdown",
   "metadata": {
    "run_control": {}
   },
   "source": [
    "### Overview\n",
    "The initial data set is provided in the file `data/BSS_hour_raw.csv`. You will first add features that will help with the analysis and then separate the data into training and test sets. Each row in this file represents the number of rides by registered users and casual users in a given hour of a specific date. There are 12 attributes in total describing besides the number of users the weather if it is a holiday or not etc: \n",
    "\n",
    "\n",
    "- `dteday` (date in the format YYYY-MM-DD, e.g. 2011-01-01)\n",
    "- `season` (1 = winter, 2 = spring, 3 = summer, 4 = fall)\n",
    "- `hour` (0 for 12 midnight, 1 for 1:00am, 23 for 11:00pm)\n",
    "- `weekday` (0 through 6, with 0 denoting Sunday)\n",
    "- `holiday` (1 = the day is a holiday, 0 = otherwise)\n",
    "- `weather`\n",
    "    - 1: Clear, Few clouds, Partly cloudy, Partly cloudy\n",
    "    - 2: Mist + Cloudy, Mist + Broken clouds, Mist + Few clouds, Mist\n",
    "    - 3: Light Snow, Light Rain + Thunderstorm\n",
    "    - 4: Heavy Rain + Thunderstorm + Mist, Snow + Fog \n",
    "- `temp` (temperature in Celsius, normalized)\n",
    "- `atemp` (apparent temperature, or relative outdoor temperature, in Celsius, normalized)\n",
    "- `hum` (relative humidity, normalized)\n",
    "- `windspeed` (wind speed, normalized)\n",
    "- `casual` (number of rides that day made by casual riders, not registered in the system)\n",
    "- `registered` (number of rides that day made by registered riders)"
   ]
  },
  {
   "cell_type": "markdown",
   "metadata": {},
   "source": [
    "---\n",
    "\n",
    "<div class=\"theme\">  Getting Started </div>"
   ]
  },
  {
   "cell_type": "markdown",
   "metadata": {},
   "source": [
    "**NOTE:** This homework assignment is a continuation of Homework 4. \n",
    "\n",
    "Load `BSS_train.csv` and `BSS_test.csv` into dataframes `BSS_train` and `BSS_test`, respectively. Remove the `dteday`, `casual`, and `registered` columns from both the train and the test dataset. "
   ]
  },
  {
   "cell_type": "code",
   "execution_count": 3,
   "metadata": {
    "scrolled": true
   },
   "outputs": [
    {
     "data": {
      "text/html": [
       "<div>\n",
       "<style scoped>\n",
       "    .dataframe tbody tr th:only-of-type {\n",
       "        vertical-align: middle;\n",
       "    }\n",
       "\n",
       "    .dataframe tbody tr th {\n",
       "        vertical-align: top;\n",
       "    }\n",
       "\n",
       "    .dataframe thead th {\n",
       "        text-align: right;\n",
       "    }\n",
       "</style>\n",
       "<table border=\"1\" class=\"dataframe\">\n",
       "  <thead>\n",
       "    <tr style=\"text-align: right;\">\n",
       "      <th></th>\n",
       "      <th>dteday</th>\n",
       "      <th>hour</th>\n",
       "      <th>holiday</th>\n",
       "      <th>year</th>\n",
       "      <th>workingday</th>\n",
       "      <th>temp</th>\n",
       "      <th>atemp</th>\n",
       "      <th>hum</th>\n",
       "      <th>windspeed</th>\n",
       "      <th>casual</th>\n",
       "      <th>...</th>\n",
       "      <th>Dec</th>\n",
       "      <th>Mon</th>\n",
       "      <th>Tue</th>\n",
       "      <th>Wed</th>\n",
       "      <th>Thu</th>\n",
       "      <th>Fri</th>\n",
       "      <th>Sat</th>\n",
       "      <th>Cloudy</th>\n",
       "      <th>Snow</th>\n",
       "      <th>Storm</th>\n",
       "    </tr>\n",
       "  </thead>\n",
       "  <tbody>\n",
       "    <tr>\n",
       "      <th>0</th>\n",
       "      <td>2012-12-30</td>\n",
       "      <td>5</td>\n",
       "      <td>0</td>\n",
       "      <td>1</td>\n",
       "      <td>0</td>\n",
       "      <td>0.26</td>\n",
       "      <td>0.2273</td>\n",
       "      <td>0.48</td>\n",
       "      <td>0.2985</td>\n",
       "      <td>0</td>\n",
       "      <td>...</td>\n",
       "      <td>1</td>\n",
       "      <td>0</td>\n",
       "      <td>0</td>\n",
       "      <td>0</td>\n",
       "      <td>0</td>\n",
       "      <td>0</td>\n",
       "      <td>0</td>\n",
       "      <td>1</td>\n",
       "      <td>0</td>\n",
       "      <td>0</td>\n",
       "    </tr>\n",
       "    <tr>\n",
       "      <th>1</th>\n",
       "      <td>2012-04-28</td>\n",
       "      <td>19</td>\n",
       "      <td>0</td>\n",
       "      <td>1</td>\n",
       "      <td>0</td>\n",
       "      <td>0.36</td>\n",
       "      <td>0.3485</td>\n",
       "      <td>0.71</td>\n",
       "      <td>0.1343</td>\n",
       "      <td>29</td>\n",
       "      <td>...</td>\n",
       "      <td>0</td>\n",
       "      <td>0</td>\n",
       "      <td>0</td>\n",
       "      <td>0</td>\n",
       "      <td>0</td>\n",
       "      <td>0</td>\n",
       "      <td>1</td>\n",
       "      <td>0</td>\n",
       "      <td>1</td>\n",
       "      <td>0</td>\n",
       "    </tr>\n",
       "    <tr>\n",
       "      <th>2</th>\n",
       "      <td>2012-12-11</td>\n",
       "      <td>12</td>\n",
       "      <td>0</td>\n",
       "      <td>1</td>\n",
       "      <td>1</td>\n",
       "      <td>0.36</td>\n",
       "      <td>0.3182</td>\n",
       "      <td>0.53</td>\n",
       "      <td>0.4478</td>\n",
       "      <td>13</td>\n",
       "      <td>...</td>\n",
       "      <td>1</td>\n",
       "      <td>0</td>\n",
       "      <td>1</td>\n",
       "      <td>0</td>\n",
       "      <td>0</td>\n",
       "      <td>0</td>\n",
       "      <td>0</td>\n",
       "      <td>1</td>\n",
       "      <td>0</td>\n",
       "      <td>0</td>\n",
       "    </tr>\n",
       "    <tr>\n",
       "      <th>3</th>\n",
       "      <td>2012-02-10</td>\n",
       "      <td>0</td>\n",
       "      <td>0</td>\n",
       "      <td>1</td>\n",
       "      <td>1</td>\n",
       "      <td>0.28</td>\n",
       "      <td>0.3030</td>\n",
       "      <td>0.65</td>\n",
       "      <td>0.0896</td>\n",
       "      <td>4</td>\n",
       "      <td>...</td>\n",
       "      <td>0</td>\n",
       "      <td>0</td>\n",
       "      <td>0</td>\n",
       "      <td>0</td>\n",
       "      <td>0</td>\n",
       "      <td>1</td>\n",
       "      <td>0</td>\n",
       "      <td>1</td>\n",
       "      <td>0</td>\n",
       "      <td>0</td>\n",
       "    </tr>\n",
       "    <tr>\n",
       "      <th>4</th>\n",
       "      <td>2012-07-22</td>\n",
       "      <td>1</td>\n",
       "      <td>0</td>\n",
       "      <td>1</td>\n",
       "      <td>0</td>\n",
       "      <td>0.60</td>\n",
       "      <td>0.5455</td>\n",
       "      <td>0.88</td>\n",
       "      <td>0.1642</td>\n",
       "      <td>31</td>\n",
       "      <td>...</td>\n",
       "      <td>0</td>\n",
       "      <td>0</td>\n",
       "      <td>0</td>\n",
       "      <td>0</td>\n",
       "      <td>0</td>\n",
       "      <td>0</td>\n",
       "      <td>0</td>\n",
       "      <td>1</td>\n",
       "      <td>0</td>\n",
       "      <td>0</td>\n",
       "    </tr>\n",
       "  </tbody>\n",
       "</table>\n",
       "<p>5 rows × 35 columns</p>\n",
       "</div>"
      ],
      "text/plain": [
       "       dteday  hour  holiday  year  workingday  temp   atemp   hum  windspeed  \\\n",
       "0  2012-12-30     5        0     1           0  0.26  0.2273  0.48     0.2985   \n",
       "1  2012-04-28    19        0     1           0  0.36  0.3485  0.71     0.1343   \n",
       "2  2012-12-11    12        0     1           1  0.36  0.3182  0.53     0.4478   \n",
       "3  2012-02-10     0        0     1           1  0.28  0.3030  0.65     0.0896   \n",
       "4  2012-07-22     1        0     1           0  0.60  0.5455  0.88     0.1642   \n",
       "\n",
       "   casual  ...  Dec  Mon  Tue  Wed  Thu  Fri  Sat  Cloudy  Snow  Storm  \n",
       "0       0  ...    1    0    0    0    0    0    0       1     0      0  \n",
       "1      29  ...    0    0    0    0    0    0    1       0     1      0  \n",
       "2      13  ...    1    0    1    0    0    0    0       1     0      0  \n",
       "3       4  ...    0    0    0    0    0    1    0       1     0      0  \n",
       "4      31  ...    0    0    0    0    0    0    0       1     0      0  \n",
       "\n",
       "[5 rows x 35 columns]"
      ]
     },
     "execution_count": 3,
     "metadata": {},
     "output_type": "execute_result"
    }
   ],
   "source": [
    "# Your code here\n",
    "BSS_train = pd.read_csv(\"BSS_train.csv\")\n",
    "BSS_test = pd.read_csv(\"BSS_test.csv\")\n",
    "BSS_test.head()"
   ]
  },
  {
   "cell_type": "code",
   "execution_count": 4,
   "metadata": {},
   "outputs": [
    {
     "data": {
      "text/html": [
       "<div>\n",
       "<style scoped>\n",
       "    .dataframe tbody tr th:only-of-type {\n",
       "        vertical-align: middle;\n",
       "    }\n",
       "\n",
       "    .dataframe tbody tr th {\n",
       "        vertical-align: top;\n",
       "    }\n",
       "\n",
       "    .dataframe thead th {\n",
       "        text-align: right;\n",
       "    }\n",
       "</style>\n",
       "<table border=\"1\" class=\"dataframe\">\n",
       "  <thead>\n",
       "    <tr style=\"text-align: right;\">\n",
       "      <th></th>\n",
       "      <th>hour</th>\n",
       "      <th>holiday</th>\n",
       "      <th>year</th>\n",
       "      <th>workingday</th>\n",
       "      <th>temp</th>\n",
       "      <th>atemp</th>\n",
       "      <th>hum</th>\n",
       "      <th>windspeed</th>\n",
       "      <th>counts</th>\n",
       "      <th>spring</th>\n",
       "      <th>...</th>\n",
       "      <th>Dec</th>\n",
       "      <th>Mon</th>\n",
       "      <th>Tue</th>\n",
       "      <th>Wed</th>\n",
       "      <th>Thu</th>\n",
       "      <th>Fri</th>\n",
       "      <th>Sat</th>\n",
       "      <th>Cloudy</th>\n",
       "      <th>Snow</th>\n",
       "      <th>Storm</th>\n",
       "    </tr>\n",
       "  </thead>\n",
       "  <tbody>\n",
       "    <tr>\n",
       "      <th>0</th>\n",
       "      <td>5</td>\n",
       "      <td>0</td>\n",
       "      <td>1</td>\n",
       "      <td>0</td>\n",
       "      <td>0.26</td>\n",
       "      <td>0.2273</td>\n",
       "      <td>0.48</td>\n",
       "      <td>0.2985</td>\n",
       "      <td>2</td>\n",
       "      <td>0</td>\n",
       "      <td>...</td>\n",
       "      <td>1</td>\n",
       "      <td>0</td>\n",
       "      <td>0</td>\n",
       "      <td>0</td>\n",
       "      <td>0</td>\n",
       "      <td>0</td>\n",
       "      <td>0</td>\n",
       "      <td>1</td>\n",
       "      <td>0</td>\n",
       "      <td>0</td>\n",
       "    </tr>\n",
       "    <tr>\n",
       "      <th>1</th>\n",
       "      <td>19</td>\n",
       "      <td>0</td>\n",
       "      <td>1</td>\n",
       "      <td>0</td>\n",
       "      <td>0.36</td>\n",
       "      <td>0.3485</td>\n",
       "      <td>0.71</td>\n",
       "      <td>0.1343</td>\n",
       "      <td>139</td>\n",
       "      <td>1</td>\n",
       "      <td>...</td>\n",
       "      <td>0</td>\n",
       "      <td>0</td>\n",
       "      <td>0</td>\n",
       "      <td>0</td>\n",
       "      <td>0</td>\n",
       "      <td>0</td>\n",
       "      <td>1</td>\n",
       "      <td>0</td>\n",
       "      <td>1</td>\n",
       "      <td>0</td>\n",
       "    </tr>\n",
       "    <tr>\n",
       "      <th>2</th>\n",
       "      <td>12</td>\n",
       "      <td>0</td>\n",
       "      <td>1</td>\n",
       "      <td>1</td>\n",
       "      <td>0.36</td>\n",
       "      <td>0.3182</td>\n",
       "      <td>0.53</td>\n",
       "      <td>0.4478</td>\n",
       "      <td>226</td>\n",
       "      <td>0</td>\n",
       "      <td>...</td>\n",
       "      <td>1</td>\n",
       "      <td>0</td>\n",
       "      <td>1</td>\n",
       "      <td>0</td>\n",
       "      <td>0</td>\n",
       "      <td>0</td>\n",
       "      <td>0</td>\n",
       "      <td>1</td>\n",
       "      <td>0</td>\n",
       "      <td>0</td>\n",
       "    </tr>\n",
       "    <tr>\n",
       "      <th>3</th>\n",
       "      <td>0</td>\n",
       "      <td>0</td>\n",
       "      <td>1</td>\n",
       "      <td>1</td>\n",
       "      <td>0.28</td>\n",
       "      <td>0.3030</td>\n",
       "      <td>0.65</td>\n",
       "      <td>0.0896</td>\n",
       "      <td>43</td>\n",
       "      <td>0</td>\n",
       "      <td>...</td>\n",
       "      <td>0</td>\n",
       "      <td>0</td>\n",
       "      <td>0</td>\n",
       "      <td>0</td>\n",
       "      <td>0</td>\n",
       "      <td>1</td>\n",
       "      <td>0</td>\n",
       "      <td>1</td>\n",
       "      <td>0</td>\n",
       "      <td>0</td>\n",
       "    </tr>\n",
       "    <tr>\n",
       "      <th>4</th>\n",
       "      <td>1</td>\n",
       "      <td>0</td>\n",
       "      <td>1</td>\n",
       "      <td>0</td>\n",
       "      <td>0.60</td>\n",
       "      <td>0.5455</td>\n",
       "      <td>0.88</td>\n",
       "      <td>0.1642</td>\n",
       "      <td>130</td>\n",
       "      <td>0</td>\n",
       "      <td>...</td>\n",
       "      <td>0</td>\n",
       "      <td>0</td>\n",
       "      <td>0</td>\n",
       "      <td>0</td>\n",
       "      <td>0</td>\n",
       "      <td>0</td>\n",
       "      <td>0</td>\n",
       "      <td>1</td>\n",
       "      <td>0</td>\n",
       "      <td>0</td>\n",
       "    </tr>\n",
       "  </tbody>\n",
       "</table>\n",
       "<p>5 rows × 32 columns</p>\n",
       "</div>"
      ],
      "text/plain": [
       "   hour  holiday  year  workingday  temp   atemp   hum  windspeed  counts  \\\n",
       "0     5        0     1           0  0.26  0.2273  0.48     0.2985       2   \n",
       "1    19        0     1           0  0.36  0.3485  0.71     0.1343     139   \n",
       "2    12        0     1           1  0.36  0.3182  0.53     0.4478     226   \n",
       "3     0        0     1           1  0.28  0.3030  0.65     0.0896      43   \n",
       "4     1        0     1           0  0.60  0.5455  0.88     0.1642     130   \n",
       "\n",
       "   spring  ...  Dec  Mon  Tue  Wed  Thu  Fri  Sat  Cloudy  Snow  Storm  \n",
       "0       0  ...    1    0    0    0    0    0    0       1     0      0  \n",
       "1       1  ...    0    0    0    0    0    0    1       0     1      0  \n",
       "2       0  ...    1    0    1    0    0    0    0       1     0      0  \n",
       "3       0  ...    0    0    0    0    0    1    0       1     0      0  \n",
       "4       0  ...    0    0    0    0    0    0    0       1     0      0  \n",
       "\n",
       "[5 rows x 32 columns]"
      ]
     },
     "execution_count": 4,
     "metadata": {},
     "output_type": "execute_result"
    }
   ],
   "source": [
    "BSS_train = BSS_train.drop(['dteday', 'casual', 'registered'], axis=1 )\n",
    "BSS_test = BSS_test.drop(['dteday', 'casual', 'registered'], axis=1 )\n",
    "BSS_test.head()"
   ]
  },
  {
   "cell_type": "markdown",
   "metadata": {
    "button": false,
    "new_sheet": false,
    "run_control": {
     "read_only": false
    }
   },
   "source": [
    "---\n",
    "\n",
    "<div class=\"theme\">  Question 3 - Multiple Linear Regression to Predict Hourly Ridership </div>"
   ]
  },
  {
   "cell_type": "markdown",
   "metadata": {
    "button": false,
    "new_sheet": false,
    "run_control": {
     "read_only": false
    }
   },
   "source": [
    "<div class='exercise'> <b> Question 3.1 </b> </div>"
   ]
  },
  {
   "cell_type": "markdown",
   "metadata": {
    "button": false,
    "new_sheet": false,
    "run_control": {
     "read_only": false
    }
   },
   "source": [
    "Use statsmodels to fit a multiple linear regression model to the training set using all the useable predictors (nothing that `count` was derived of and no interactions or polynomial terms) to predict `counts`, and report its $R^2$ score on the train and test sets.  Call this set of predictors `X_train`. Reminder that you need to add a constant column when using statsmodels in order to fit the intercept."
   ]
  },
  {
   "cell_type": "code",
   "execution_count": 10,
   "metadata": {},
   "outputs": [
    {
     "name": "stdout",
     "output_type": "stream",
     "text": [
      "                            OLS Regression Results                            \n",
      "==============================================================================\n",
      "Dep. Variable:                 counts   R-squared:                       0.412\n",
      "Model:                            OLS   Adj. R-squared:                  0.410\n",
      "Method:                 Least Squares   F-statistic:                     201.9\n",
      "Date:                Fri, 08 Oct 2021   Prob (F-statistic):               0.00\n",
      "Time:                        16:04:55   Log-Likelihood:                -55215.\n",
      "No. Observations:                8689   AIC:                         1.105e+05\n",
      "Df Residuals:                    8658   BIC:                         1.107e+05\n",
      "Df Model:                          30                                         \n",
      "Covariance Type:            nonrobust                                         \n",
      "==============================================================================\n",
      "                 coef    std err          t      P>|t|      [0.025      0.975]\n",
      "------------------------------------------------------------------------------\n",
      "const        -30.4075     10.908     -2.788      0.005     -51.789      -9.026\n",
      "hour           7.2092      0.233     30.975      0.000       6.753       7.665\n",
      "holiday      -19.1510      8.369     -2.288      0.022     -35.556      -2.746\n",
      "year          78.1211      3.020     25.864      0.000      72.200      84.042\n",
      "workingday    10.9484      3.512      3.118      0.002       4.065      17.832\n",
      "temp         273.6625     61.680      4.437      0.000     152.755     394.570\n",
      "atemp        162.5353     64.909      2.504      0.012      35.298     289.773\n",
      "hum         -202.0080      9.927    -20.349      0.000    -221.468    -182.548\n",
      "windspeed     19.3827     13.595      1.426      0.154      -7.268      46.033\n",
      "spring        50.0754      9.528      5.256      0.000      31.398      68.753\n",
      "summer        22.6879     11.138      2.037      0.042       0.855      44.521\n",
      "fall          70.9474      9.448      7.509      0.000      52.426      89.469\n",
      "Feb          -10.7198      7.590     -1.412      0.158     -25.598       4.158\n",
      "Mar          -11.2938      8.385     -1.347      0.178     -27.731       5.143\n",
      "Apr          -44.8326     12.635     -3.548      0.000     -69.600     -20.065\n",
      "May          -50.1605     13.493     -3.718      0.000     -76.609     -23.712\n",
      "Jun          -72.2042     13.700     -5.271      0.000     -99.058     -45.350\n",
      "Jul          -90.8965     15.387     -5.907      0.000    -121.058     -60.735\n",
      "Aug          -58.3246     15.061     -3.873      0.000     -87.847     -28.802\n",
      "Sept         -16.1686     13.432     -1.204      0.229     -42.499      10.162\n",
      "Oct          -15.8838     12.484     -1.272      0.203     -40.356       8.588\n",
      "Nov          -32.7232     12.049     -2.716      0.007     -56.342      -9.104\n",
      "Dec          -19.2088      9.560     -2.009      0.045     -37.949      -0.469\n",
      "Mon           -3.3336      3.756     -0.888      0.375     -10.697       4.029\n",
      "Tue           -0.0074      4.105     -0.002      0.999      -8.055       8.040\n",
      "Wed           -2.2059      4.082     -0.540      0.589     -10.207       5.795\n",
      "Thu           -5.5698      4.013     -1.388      0.165     -13.436       2.297\n",
      "Fri            2.9140      4.015      0.726      0.468      -4.956      10.784\n",
      "Sat           12.7461      5.587      2.281      0.023       1.793      23.699\n",
      "Cloudy         6.9163      3.676      1.882      0.060      -0.289      14.122\n",
      "Snow         -26.8155      6.094     -4.401      0.000     -38.760     -14.871\n",
      "Storm         48.2045     98.839      0.488      0.626    -145.543     241.952\n",
      "==============================================================================\n",
      "Omnibus:                     1691.839   Durbin-Watson:                   1.982\n",
      "Prob(Omnibus):                  0.000   Jarque-Bera (JB):             3250.657\n",
      "Skew:                           1.191   Prob(JB):                         0.00\n",
      "Kurtosis:                       4.818   Cond. No.                     1.17e+16\n",
      "==============================================================================\n",
      "\n",
      "Notes:\n",
      "[1] Standard Errors assume that the covariance matrix of the errors is correctly specified.\n",
      "[2] The smallest eigenvalue is 1.18e-26. This might indicate that there are\n",
      "strong multicollinearity problems or that the design matrix is singular.\n",
      "                            OLS Regression Results                            \n",
      "==============================================================================\n",
      "Dep. Variable:                 counts   R-squared:                       0.404\n",
      "Model:                            OLS   Adj. R-squared:                  0.402\n",
      "Method:                 Least Squares   F-statistic:                     195.8\n",
      "Date:                Fri, 08 Oct 2021   Prob (F-statistic):               0.00\n",
      "Time:                        16:04:55   Log-Likelihood:                -55272.\n",
      "No. Observations:                8690   AIC:                         1.106e+05\n",
      "Df Residuals:                    8659   BIC:                         1.108e+05\n",
      "Df Model:                          30                                         \n",
      "Covariance Type:            nonrobust                                         \n",
      "==============================================================================\n",
      "                 coef    std err          t      P>|t|      [0.025      0.975]\n",
      "------------------------------------------------------------------------------\n",
      "const        -19.3228     11.064     -1.746      0.081     -41.011       2.366\n",
      "hour           7.2756      0.238     30.559      0.000       6.809       7.742\n",
      "holiday      -22.5919      8.546     -2.644      0.008     -39.344      -5.840\n",
      "year          78.5998      3.040     25.856      0.000      72.641      84.559\n",
      "workingday    10.7803      3.513      3.069      0.002       3.894      17.667\n",
      "temp         315.5393     53.271      5.923      0.000     211.115     419.963\n",
      "atemp         86.5838     55.446      1.562      0.118     -22.104     195.271\n",
      "hum         -204.3296      9.941    -20.554      0.000    -223.817    -184.842\n",
      "windspeed     32.4178     13.767      2.355      0.019       5.431      59.404\n",
      "spring        38.9037      9.375      4.150      0.000      20.526      57.282\n",
      "summer        26.0261     11.229      2.318      0.020       4.014      48.038\n",
      "fall          61.9885      9.541      6.497      0.000      43.287      80.690\n",
      "Feb           -8.5333      7.628     -1.119      0.263     -23.487       6.420\n",
      "Mar          -20.2865      8.615     -2.355      0.019     -37.175      -3.398\n",
      "Apr          -41.8463     12.592     -3.323      0.001     -66.529     -17.164\n",
      "May          -21.7075     13.414     -1.618      0.106     -48.003       4.588\n",
      "Jun          -72.1008     13.669     -5.275      0.000     -98.896     -45.306\n",
      "Jul          -89.9344     15.458     -5.818      0.000    -120.237     -59.632\n",
      "Aug          -56.7855     15.144     -3.750      0.000     -86.471     -27.100\n",
      "Sept          -7.9274     13.570     -0.584      0.559     -34.528      18.673\n",
      "Oct          -12.7256     12.618     -1.009      0.313     -37.460      12.008\n",
      "Nov          -17.9604     12.185     -1.474      0.141     -41.847       5.926\n",
      "Dec           -3.5281      9.702     -0.364      0.716     -22.547      15.490\n",
      "Mon           -3.1561      3.805     -0.829      0.407     -10.616       4.303\n",
      "Tue           -8.4242      4.075     -2.067      0.039     -16.413      -0.436\n",
      "Wed            0.8290      4.087      0.203      0.839      -7.183       8.841\n",
      "Thu           -3.2258      4.082     -0.790      0.429     -11.227       4.776\n",
      "Fri            2.1656      4.071      0.532      0.595      -5.815      10.147\n",
      "Sat           13.7990      5.606      2.461      0.014       2.809      24.789\n",
      "Cloudy         7.8537      3.699      2.123      0.034       0.603      15.104\n",
      "Snow         -27.8481      6.261     -4.448      0.000     -40.122     -15.574\n",
      "Storm         56.1691    140.454      0.400      0.689    -219.154     331.492\n",
      "==============================================================================\n",
      "Omnibus:                     1819.337   Durbin-Watson:                   1.989\n",
      "Prob(Omnibus):                  0.000   Jarque-Bera (JB):             3714.302\n",
      "Skew:                           1.243   Prob(JB):                         0.00\n",
      "Kurtosis:                       5.020   Cond. No.                     1.16e+16\n",
      "==============================================================================\n",
      "\n",
      "Notes:\n",
      "[1] Standard Errors assume that the covariance matrix of the errors is correctly specified.\n",
      "[2] The smallest eigenvalue is 1.16e-26. This might indicate that there are\n",
      "strong multicollinearity problems or that the design matrix is singular.\n"
     ]
    }
   ],
   "source": [
    "# Your code here\n",
    "# Your code here\n",
    "xTrain = BSS_train[['hour', 'holiday', 'year', 'workingday', 'temp', 'atemp', 'hum', \n",
    "                    'windspeed', 'spring', 'summer', 'fall', 'Feb', 'Mar', 'Apr', 'May', \n",
    "                    'Jun', 'Jul', 'Aug', 'Sept', 'Oct', 'Nov', 'Dec', 'Mon', 'Tue', 'Wed', \n",
    "                    'Thu', 'Fri', 'Sat', 'Cloudy', 'Snow', 'Storm']]\n",
    "yTrain = BSS_train['counts']\n",
    "\n",
    "xTest = BSS_test[['hour', 'holiday', 'year', 'workingday', 'temp', 'atemp', 'hum', \n",
    "                    'windspeed', 'spring', 'summer', 'fall', 'Feb', 'Mar', 'Apr', 'May', \n",
    "                    'Jun', 'Jul', 'Aug', 'Sept', 'Oct', 'Nov', 'Dec', 'Mon', 'Tue', 'Wed', \n",
    "                    'Thu', 'Fri', 'Sat', 'Cloudy', 'Snow', 'Storm']]\n",
    "yTest = BSS_test['counts']\n",
    "\n",
    "XTrain = sm.add_constant(xTrain)\n",
    "XTest = sm.add_constant(xTest)\n",
    "\n",
    "OLSTrain = sm.OLS(yTrain, XTrain)\n",
    "OLSModelTrain = OLSTrain.fit()\n",
    "\n",
    "OLSTest = sm.OLS(yTest, XTest)\n",
    "OLSModelTest = OLSTest.fit()\n",
    "  \n",
    "# printing the summary table\n",
    "print(OLSModelTrain.summary())\n",
    "print(OLSModelTest.summary())"
   ]
  },
  {
   "cell_type": "markdown",
   "metadata": {
    "button": false,
    "new_sheet": false,
    "run_control": {
     "read_only": false
    }
   },
   "source": [
    "<div class='exercise'> <b> Question 3.2 </b> </div>"
   ]
  },
  {
   "cell_type": "markdown",
   "metadata": {
    "button": false,
    "new_sheet": false,
    "run_control": {
     "read_only": false
    }
   },
   "source": [
    "Examine the estimated coefficients and report which ones are statistically significant at a significance level of 5% (p-value < 0.05). "
   ]
  },
  {
   "cell_type": "code",
   "execution_count": 12,
   "metadata": {
    "scrolled": true
   },
   "outputs": [
    {
     "data": {
      "text/plain": [
       "const         -19.322769\n",
       "hour            7.275559\n",
       "holiday       -22.591867\n",
       "year           78.599835\n",
       "workingday     10.780316\n",
       "temp          315.539252\n",
       "atemp          86.583782\n",
       "hum          -204.329617\n",
       "windspeed      32.417827\n",
       "spring         38.903741\n",
       "summer         26.026052\n",
       "fall           61.988515\n",
       "Feb            -8.533254\n",
       "Mar           -20.286474\n",
       "Apr           -41.846289\n",
       "May           -21.707530\n",
       "Jun           -72.100782\n",
       "Jul           -89.934393\n",
       "Aug           -56.785488\n",
       "Sept           -7.927411\n",
       "Oct           -12.725609\n",
       "Nov           -17.960408\n",
       "Dec            -3.528133\n",
       "Mon            -3.156096\n",
       "Tue            -8.424249\n",
       "Wed             0.828962\n",
       "Thu            -3.225784\n",
       "Fri             2.165617\n",
       "Sat            13.799042\n",
       "Cloudy          7.853726\n",
       "Snow          -27.848055\n",
       "Storm          56.169147\n",
       "dtype: float64"
      ]
     },
     "execution_count": 12,
     "metadata": {},
     "output_type": "execute_result"
    }
   ],
   "source": [
    "# Your code here\n",
    "OLSModelTest.params"
   ]
  },
  {
   "cell_type": "code",
   "execution_count": 13,
   "metadata": {},
   "outputs": [
    {
     "data": {
      "text/plain": [
       "const          8.077104e-02\n",
       "hour          7.306964e-195\n",
       "holiday        8.218194e-03\n",
       "year          4.628592e-142\n",
       "workingday     2.157935e-03\n",
       "temp           3.276569e-09\n",
       "atemp          1.184229e-01\n",
       "hum            1.075350e-91\n",
       "windspeed      1.855626e-02\n",
       "spring         3.363728e-05\n",
       "summer         2.049082e-02\n",
       "fall           8.624546e-11\n",
       "Feb            2.633410e-01\n",
       "Mar            1.856043e-02\n",
       "Apr            8.931242e-04\n",
       "May            1.056486e-01\n",
       "Jun            1.362152e-07\n",
       "Jul            6.173169e-09\n",
       "Aug            1.781742e-04\n",
       "Sept           5.591128e-01\n",
       "Oct            3.132234e-01\n",
       "Nov            1.405379e-01\n",
       "Dec            7.161308e-01\n",
       "Mon            4.069163e-01\n",
       "Tue            3.874463e-02\n",
       "Wed            8.392904e-01\n",
       "Thu            4.294037e-01\n",
       "Fri            5.948090e-01\n",
       "Sat            1.386361e-02\n",
       "Cloudy         3.375351e-02\n",
       "Snow           8.792178e-06\n",
       "Storm          6.892312e-01\n",
       "dtype: float64"
      ]
     },
     "execution_count": 13,
     "metadata": {},
     "output_type": "execute_result"
    }
   ],
   "source": [
    "OLSModelTest.pvalues"
   ]
  },
  {
   "cell_type": "markdown",
   "metadata": {
    "button": false,
    "new_sheet": false,
    "run_control": {
     "read_only": false
    }
   },
   "source": [
    "<div class='exercise'> <b> Question 3.3 </b> </div>"
   ]
  },
  {
   "cell_type": "markdown",
   "metadata": {
    "button": false,
    "new_sheet": false,
    "run_control": {
     "read_only": false
    }
   },
   "source": [
    "You should see some strange estimates for the predictors representing months.  Carefully interpret the `July` coefficient, and explain why this result is likely occurring (be as specific as possible). "
   ]
  },
  {
   "cell_type": "code",
   "execution_count": 22,
   "metadata": {
    "scrolled": true
   },
   "outputs": [
    {
     "name": "stdout",
     "output_type": "stream",
     "text": [
      "-89.93439309112884\n",
      "6.173168738732975e-09\n"
     ]
    }
   ],
   "source": [
    "print(OLSModelTest.params['Jul'])\n",
    "print(OLSModelTest.pvalues['Jul'])"
   ]
  },
  {
   "cell_type": "markdown",
   "metadata": {},
   "source": [
    "*Your answer here*\n",
    "The null hypothesis: if the coefficient of July is equal to 0. Because obsered pvalue of July is less than significance level => reject hypothesis => it means coefficient of July is different from 0.\n",
    "Obsered pvalue of July is significantly less than significance level means the probability of coefficient is equal to 0 very small."
   ]
  },
  {
   "cell_type": "markdown",
   "metadata": {
    "button": false,
    "new_sheet": false,
    "run_control": {
     "read_only": false
    }
   },
   "source": [
    "<div class='exercise'> <b> Question 3.4 </b> </div>"
   ]
  },
  {
   "cell_type": "markdown",
   "metadata": {
    "button": false,
    "new_sheet": false,
    "run_control": {
     "read_only": false
    }
   },
   "source": [
    "To diagnose the model, make two plots: first a histogram of the residuals, and second a plot of the residuals of the fitted model ${e} = y - \\hat{y}$ as a function of the predicted value $\\hat{y}$. Draw a horizontal line denoting the zero residual value on the Y-axis. What do the plots reveal about the OLS assumptions (linearity, constant variance, and normality)?"
   ]
  },
  {
   "cell_type": "code",
   "execution_count": 49,
   "metadata": {},
   "outputs": [
    {
     "data": {
      "image/png": "[encoded data removed]",
      "text/plain": [
       "<Figure size 432x288 with 1 Axes>"
      ]
     },
     "metadata": {
      "needs_background": "light"
     },
     "output_type": "display_data"
    }
   ],
   "source": [
    "import seaborn as sns\n",
    "sns.histplot(OLSModelTrain.resid)"
   ]
  },
  {
   "cell_type": "code",
   "execution_count": 55,
   "metadata": {
    "scrolled": false
   },
   "outputs": [
    {
     "data": {
      "image/png": "[encoded data removed]",
      "text/plain": [
       "<Figure size 720x720 with 1 Axes>"
      ]
     },
     "metadata": {
      "needs_background": "light"
     },
     "output_type": "display_data"
    }
   ],
   "source": [
    "fig, ax = plt.subplots(nrows=1, ncols=1,figsize=(10,10), sharey=True)\n",
    "fig.suptitle('Residuals vs fitted values plot', fontsize=14)\n",
    "pred_val = OLSModelTrain.fittedvalues\n",
    "true_val = BSS_train['counts'].values\n",
    "residual = true_val - pred_val\n",
    "ax.scatter(pred_val, residual)\n",
    "ax.set_xlabel('Predicted Values')\n",
    "ax.set_ylabel('Residuals')\n",
    "ax.axhline(y=0,c=\"r\", linewidth=2, zorder=0)\n",
    "fig.tight_layout(rect=[0,0.03,1,0.98])"
   ]
  },
  {
   "cell_type": "markdown",
   "metadata": {},
   "source": [
    "*Your answer here*\n",
    "The plots reveal normality about the OLS assumptions."
   ]
  },
  {
   "cell_type": "markdown",
   "metadata": {
    "button": false,
    "new_sheet": false,
    "run_control": {
     "read_only": false
    }
   },
   "source": [
    "<div class='exercise'> <b> Question 3.5 </b> </div>"
   ]
  },
  {
   "cell_type": "markdown",
   "metadata": {
    "button": false,
    "new_sheet": false,
    "run_control": {
     "read_only": false
    }
   },
   "source": [
    "Perhaps we can do better via a model with polynomial terms. Build a dataset `X_train_poly` from your `X_train` data from question 3.1 with added $x^2$ terms for `temp`, `hour`, and `humidity`. Are these polynomial terms important? How does predicted ridership change as each of `temp`, `hour`, and `humidity` increase?"
   ]
  },
  {
   "cell_type": "code",
   "execution_count": 27,
   "metadata": {
    "scrolled": true
   },
   "outputs": [
    {
     "data": {
      "text/html": [
       "<div>\n",
       "<style scoped>\n",
       "    .dataframe tbody tr th:only-of-type {\n",
       "        vertical-align: middle;\n",
       "    }\n",
       "\n",
       "    .dataframe tbody tr th {\n",
       "        vertical-align: top;\n",
       "    }\n",
       "\n",
       "    .dataframe thead th {\n",
       "        text-align: right;\n",
       "    }\n",
       "</style>\n",
       "<table border=\"1\" class=\"dataframe\">\n",
       "  <thead>\n",
       "    <tr style=\"text-align: right;\">\n",
       "      <th></th>\n",
       "      <th>hour</th>\n",
       "      <th>holiday</th>\n",
       "      <th>year</th>\n",
       "      <th>workingday</th>\n",
       "      <th>temp</th>\n",
       "      <th>atemp</th>\n",
       "      <th>hum</th>\n",
       "      <th>windspeed</th>\n",
       "      <th>spring</th>\n",
       "      <th>summer</th>\n",
       "      <th>...</th>\n",
       "      <th>Dec</th>\n",
       "      <th>Mon</th>\n",
       "      <th>Tue</th>\n",
       "      <th>Wed</th>\n",
       "      <th>Thu</th>\n",
       "      <th>Fri</th>\n",
       "      <th>Sat</th>\n",
       "      <th>Cloudy</th>\n",
       "      <th>Snow</th>\n",
       "      <th>Storm</th>\n",
       "    </tr>\n",
       "  </thead>\n",
       "  <tbody>\n",
       "    <tr>\n",
       "      <th>0</th>\n",
       "      <td>21</td>\n",
       "      <td>0</td>\n",
       "      <td>1</td>\n",
       "      <td>1</td>\n",
       "      <td>0.24</td>\n",
       "      <td>0.2273</td>\n",
       "      <td>0.60</td>\n",
       "      <td>0.2537</td>\n",
       "      <td>0</td>\n",
       "      <td>0</td>\n",
       "      <td>...</td>\n",
       "      <td>1</td>\n",
       "      <td>0</td>\n",
       "      <td>0</td>\n",
       "      <td>0</td>\n",
       "      <td>1</td>\n",
       "      <td>0</td>\n",
       "      <td>0</td>\n",
       "      <td>1</td>\n",
       "      <td>0</td>\n",
       "      <td>0</td>\n",
       "    </tr>\n",
       "    <tr>\n",
       "      <th>1</th>\n",
       "      <td>17</td>\n",
       "      <td>0</td>\n",
       "      <td>0</td>\n",
       "      <td>1</td>\n",
       "      <td>0.62</td>\n",
       "      <td>0.5758</td>\n",
       "      <td>0.83</td>\n",
       "      <td>0.2537</td>\n",
       "      <td>0</td>\n",
       "      <td>0</td>\n",
       "      <td>...</td>\n",
       "      <td>0</td>\n",
       "      <td>0</td>\n",
       "      <td>0</td>\n",
       "      <td>0</td>\n",
       "      <td>1</td>\n",
       "      <td>0</td>\n",
       "      <td>0</td>\n",
       "      <td>0</td>\n",
       "      <td>1</td>\n",
       "      <td>0</td>\n",
       "    </tr>\n",
       "    <tr>\n",
       "      <th>2</th>\n",
       "      <td>9</td>\n",
       "      <td>0</td>\n",
       "      <td>1</td>\n",
       "      <td>1</td>\n",
       "      <td>0.76</td>\n",
       "      <td>0.7273</td>\n",
       "      <td>0.66</td>\n",
       "      <td>0.1642</td>\n",
       "      <td>0</td>\n",
       "      <td>1</td>\n",
       "      <td>...</td>\n",
       "      <td>0</td>\n",
       "      <td>0</td>\n",
       "      <td>0</td>\n",
       "      <td>0</td>\n",
       "      <td>1</td>\n",
       "      <td>0</td>\n",
       "      <td>0</td>\n",
       "      <td>0</td>\n",
       "      <td>0</td>\n",
       "      <td>0</td>\n",
       "    </tr>\n",
       "    <tr>\n",
       "      <th>3</th>\n",
       "      <td>17</td>\n",
       "      <td>0</td>\n",
       "      <td>1</td>\n",
       "      <td>0</td>\n",
       "      <td>0.62</td>\n",
       "      <td>0.6061</td>\n",
       "      <td>0.22</td>\n",
       "      <td>0.2985</td>\n",
       "      <td>1</td>\n",
       "      <td>0</td>\n",
       "      <td>...</td>\n",
       "      <td>0</td>\n",
       "      <td>0</td>\n",
       "      <td>0</td>\n",
       "      <td>0</td>\n",
       "      <td>0</td>\n",
       "      <td>0</td>\n",
       "      <td>0</td>\n",
       "      <td>0</td>\n",
       "      <td>0</td>\n",
       "      <td>0</td>\n",
       "    </tr>\n",
       "    <tr>\n",
       "      <th>4</th>\n",
       "      <td>8</td>\n",
       "      <td>0</td>\n",
       "      <td>1</td>\n",
       "      <td>0</td>\n",
       "      <td>0.18</td>\n",
       "      <td>0.1970</td>\n",
       "      <td>0.40</td>\n",
       "      <td>0.1343</td>\n",
       "      <td>0</td>\n",
       "      <td>0</td>\n",
       "      <td>...</td>\n",
       "      <td>0</td>\n",
       "      <td>0</td>\n",
       "      <td>0</td>\n",
       "      <td>0</td>\n",
       "      <td>0</td>\n",
       "      <td>0</td>\n",
       "      <td>0</td>\n",
       "      <td>0</td>\n",
       "      <td>0</td>\n",
       "      <td>0</td>\n",
       "    </tr>\n",
       "  </tbody>\n",
       "</table>\n",
       "<p>5 rows × 31 columns</p>\n",
       "</div>"
      ],
      "text/plain": [
       "   hour  holiday  year  workingday  temp   atemp   hum  windspeed  spring  \\\n",
       "0    21        0     1           1  0.24  0.2273  0.60     0.2537       0   \n",
       "1    17        0     0           1  0.62  0.5758  0.83     0.2537       0   \n",
       "2     9        0     1           1  0.76  0.7273  0.66     0.1642       0   \n",
       "3    17        0     1           0  0.62  0.6061  0.22     0.2985       1   \n",
       "4     8        0     1           0  0.18  0.1970  0.40     0.1343       0   \n",
       "\n",
       "   summer  ...  Dec  Mon  Tue  Wed  Thu  Fri  Sat  Cloudy  Snow  Storm  \n",
       "0       0  ...    1    0    0    0    1    0    0       1     0      0  \n",
       "1       0  ...    0    0    0    0    1    0    0       0     1      0  \n",
       "2       1  ...    0    0    0    0    1    0    0       0     0      0  \n",
       "3       0  ...    0    0    0    0    0    0    0       0     0      0  \n",
       "4       0  ...    0    0    0    0    0    0    0       0     0      0  \n",
       "\n",
       "[5 rows x 31 columns]"
      ]
     },
     "execution_count": 27,
     "metadata": {},
     "output_type": "execute_result"
    }
   ],
   "source": [
    "# Your code here\n",
    "xTrain['temp'].pow(2)\n",
    "xTrain['hour'].pow(2)\n",
    "xTrain['hum'].pow(2)\n",
    "X_train_poly = xTrain\n",
    "X_train_poly.head()"
   ]
  },
  {
   "cell_type": "code",
   "execution_count": 28,
   "metadata": {},
   "outputs": [
    {
     "name": "stdout",
     "output_type": "stream",
     "text": [
      "                            OLS Regression Results                            \n",
      "==============================================================================\n",
      "Dep. Variable:                 counts   R-squared:                       0.412\n",
      "Model:                            OLS   Adj. R-squared:                  0.410\n",
      "Method:                 Least Squares   F-statistic:                     201.9\n",
      "Date:                Fri, 08 Oct 2021   Prob (F-statistic):               0.00\n",
      "Time:                        22:06:12   Log-Likelihood:                -55215.\n",
      "No. Observations:                8689   AIC:                         1.105e+05\n",
      "Df Residuals:                    8658   BIC:                         1.107e+05\n",
      "Df Model:                          30                                         \n",
      "Covariance Type:            nonrobust                                         \n",
      "==============================================================================\n",
      "                 coef    std err          t      P>|t|      [0.025      0.975]\n",
      "------------------------------------------------------------------------------\n",
      "const        -30.4075     10.908     -2.788      0.005     -51.789      -9.026\n",
      "hour           7.2092      0.233     30.975      0.000       6.753       7.665\n",
      "holiday      -19.1510      8.369     -2.288      0.022     -35.556      -2.746\n",
      "year          78.1211      3.020     25.864      0.000      72.200      84.042\n",
      "workingday    10.9484      3.512      3.118      0.002       4.065      17.832\n",
      "temp         273.6625     61.680      4.437      0.000     152.755     394.570\n",
      "atemp        162.5353     64.909      2.504      0.012      35.298     289.773\n",
      "hum         -202.0080      9.927    -20.349      0.000    -221.468    -182.548\n",
      "windspeed     19.3827     13.595      1.426      0.154      -7.268      46.033\n",
      "spring        50.0754      9.528      5.256      0.000      31.398      68.753\n",
      "summer        22.6879     11.138      2.037      0.042       0.855      44.521\n",
      "fall          70.9474      9.448      7.509      0.000      52.426      89.469\n",
      "Feb          -10.7198      7.590     -1.412      0.158     -25.598       4.158\n",
      "Mar          -11.2938      8.385     -1.347      0.178     -27.731       5.143\n",
      "Apr          -44.8326     12.635     -3.548      0.000     -69.600     -20.065\n",
      "May          -50.1605     13.493     -3.718      0.000     -76.609     -23.712\n",
      "Jun          -72.2042     13.700     -5.271      0.000     -99.058     -45.350\n",
      "Jul          -90.8965     15.387     -5.907      0.000    -121.058     -60.735\n",
      "Aug          -58.3246     15.061     -3.873      0.000     -87.847     -28.802\n",
      "Sept         -16.1686     13.432     -1.204      0.229     -42.499      10.162\n",
      "Oct          -15.8838     12.484     -1.272      0.203     -40.356       8.588\n",
      "Nov          -32.7232     12.049     -2.716      0.007     -56.342      -9.104\n",
      "Dec          -19.2088      9.560     -2.009      0.045     -37.949      -0.469\n",
      "Mon           -3.3336      3.756     -0.888      0.375     -10.697       4.029\n",
      "Tue           -0.0074      4.105     -0.002      0.999      -8.055       8.040\n",
      "Wed           -2.2059      4.082     -0.540      0.589     -10.207       5.795\n",
      "Thu           -5.5698      4.013     -1.388      0.165     -13.436       2.297\n",
      "Fri            2.9140      4.015      0.726      0.468      -4.956      10.784\n",
      "Sat           12.7461      5.587      2.281      0.023       1.793      23.699\n",
      "Cloudy         6.9163      3.676      1.882      0.060      -0.289      14.122\n",
      "Snow         -26.8155      6.094     -4.401      0.000     -38.760     -14.871\n",
      "Storm         48.2045     98.839      0.488      0.626    -145.543     241.952\n",
      "==============================================================================\n",
      "Omnibus:                     1691.839   Durbin-Watson:                   1.982\n",
      "Prob(Omnibus):                  0.000   Jarque-Bera (JB):             3250.657\n",
      "Skew:                           1.191   Prob(JB):                         0.00\n",
      "Kurtosis:                       4.818   Cond. No.                     1.17e+16\n",
      "==============================================================================\n",
      "\n",
      "Notes:\n",
      "[1] Standard Errors assume that the covariance matrix of the errors is correctly specified.\n",
      "[2] The smallest eigenvalue is 1.18e-26. This might indicate that there are\n",
      "strong multicollinearity problems or that the design matrix is singular.\n"
     ]
    }
   ],
   "source": [
    "XTrainPoly = sm.add_constant(X_train_poly)\n",
    "\n",
    "OutlierOLSTrainPoly = sm.OLS(yTrain, XTrainPoly)\n",
    "OutlierOLSModelTrainPoly = OutlierOLSTrain.fit()\n",
    "\n",
    "# printing the summary table\n",
    "print(OutlierOLSModelTrainPoly.summary())"
   ]
  },
  {
   "cell_type": "markdown",
   "metadata": {},
   "source": [
    "*Your answer here*"
   ]
  },
  {
   "cell_type": "markdown",
   "metadata": {
    "button": false,
    "new_sheet": false,
    "run_control": {
     "read_only": false
    }
   },
   "source": [
    "<div class='exercise'> <b> Question 3.6 </b> </div>"
   ]
  },
  {
   "cell_type": "markdown",
   "metadata": {
    "button": false,
    "new_sheet": false,
    "run_control": {
     "read_only": false
    }
   },
   "source": [
    "You should have received a warning regarding the presence of _multicolinearity_ in the model in 3.1.  Create a new dataset `X_train_drop` by dropping the following predictors from `X_train`:  `workingday` `atemp` `spring` `summer` and `fall` and fit a multiple linear regression model to the variables the remain.  Are the estimates more sensible in this model?  And explain in your own words why multicolinearity can lead to erroneous coefficient values."
   ]
  },
  {
   "cell_type": "code",
   "execution_count": 29,
   "metadata": {
    "button": false,
    "new_sheet": false,
    "run_control": {
     "read_only": false
    }
   },
   "outputs": [
    {
     "name": "stdout",
     "output_type": "stream",
     "text": [
      "                            OLS Regression Results                            \n",
      "==============================================================================\n",
      "Dep. Variable:                 counts   R-squared:                       0.412\n",
      "Model:                            OLS   Adj. R-squared:                  0.410\n",
      "Method:                 Least Squares   F-statistic:                     201.9\n",
      "Date:                Fri, 08 Oct 2021   Prob (F-statistic):               0.00\n",
      "Time:                        22:06:46   Log-Likelihood:                -55215.\n",
      "No. Observations:                8689   AIC:                         1.105e+05\n",
      "Df Residuals:                    8658   BIC:                         1.107e+05\n",
      "Df Model:                          30                                         \n",
      "Covariance Type:            nonrobust                                         \n",
      "==============================================================================\n",
      "                 coef    std err          t      P>|t|      [0.025      0.975]\n",
      "------------------------------------------------------------------------------\n",
      "const        -30.4075     10.908     -2.788      0.005     -51.789      -9.026\n",
      "hour           7.2092      0.233     30.975      0.000       6.753       7.665\n",
      "holiday      -19.1510      8.369     -2.288      0.022     -35.556      -2.746\n",
      "year          78.1211      3.020     25.864      0.000      72.200      84.042\n",
      "workingday    10.9484      3.512      3.118      0.002       4.065      17.832\n",
      "temp         273.6625     61.680      4.437      0.000     152.755     394.570\n",
      "atemp        162.5353     64.909      2.504      0.012      35.298     289.773\n",
      "hum         -202.0080      9.927    -20.349      0.000    -221.468    -182.548\n",
      "windspeed     19.3827     13.595      1.426      0.154      -7.268      46.033\n",
      "spring        50.0754      9.528      5.256      0.000      31.398      68.753\n",
      "summer        22.6879     11.138      2.037      0.042       0.855      44.521\n",
      "fall          70.9474      9.448      7.509      0.000      52.426      89.469\n",
      "Feb          -10.7198      7.590     -1.412      0.158     -25.598       4.158\n",
      "Mar          -11.2938      8.385     -1.347      0.178     -27.731       5.143\n",
      "Apr          -44.8326     12.635     -3.548      0.000     -69.600     -20.065\n",
      "May          -50.1605     13.493     -3.718      0.000     -76.609     -23.712\n",
      "Jun          -72.2042     13.700     -5.271      0.000     -99.058     -45.350\n",
      "Jul          -90.8965     15.387     -5.907      0.000    -121.058     -60.735\n",
      "Aug          -58.3246     15.061     -3.873      0.000     -87.847     -28.802\n",
      "Sept         -16.1686     13.432     -1.204      0.229     -42.499      10.162\n",
      "Oct          -15.8838     12.484     -1.272      0.203     -40.356       8.588\n",
      "Nov          -32.7232     12.049     -2.716      0.007     -56.342      -9.104\n",
      "Dec          -19.2088      9.560     -2.009      0.045     -37.949      -0.469\n",
      "Mon           -3.3336      3.756     -0.888      0.375     -10.697       4.029\n",
      "Tue           -0.0074      4.105     -0.002      0.999      -8.055       8.040\n",
      "Wed           -2.2059      4.082     -0.540      0.589     -10.207       5.795\n",
      "Thu           -5.5698      4.013     -1.388      0.165     -13.436       2.297\n",
      "Fri            2.9140      4.015      0.726      0.468      -4.956      10.784\n",
      "Sat           12.7461      5.587      2.281      0.023       1.793      23.699\n",
      "Cloudy         6.9163      3.676      1.882      0.060      -0.289      14.122\n",
      "Snow         -26.8155      6.094     -4.401      0.000     -38.760     -14.871\n",
      "Storm         48.2045     98.839      0.488      0.626    -145.543     241.952\n",
      "==============================================================================\n",
      "Omnibus:                     1691.839   Durbin-Watson:                   1.982\n",
      "Prob(Omnibus):                  0.000   Jarque-Bera (JB):             3250.657\n",
      "Skew:                           1.191   Prob(JB):                         0.00\n",
      "Kurtosis:                       4.818   Cond. No.                     1.17e+16\n",
      "==============================================================================\n",
      "\n",
      "Notes:\n",
      "[1] Standard Errors assume that the covariance matrix of the errors is correctly specified.\n",
      "[2] The smallest eigenvalue is 1.18e-26. This might indicate that there are\n",
      "strong multicollinearity problems or that the design matrix is singular.\n"
     ]
    }
   ],
   "source": [
    "# Your code here\n",
    "xTrain = xTrain.drop(['workingday', 'atemp', 'spring', 'summer'], axis=1 )\n",
    "X_train_drop = xTrain\n",
    "XTrainDrop = sm.add_constant(X_train_drop)\n",
    "\n",
    "OutlierOLSTrainDrop = sm.OLS(yTrain, XTrainPoly)\n",
    "OutlierOLSModelTrainDrop = OutlierOLSTrain.fit()\n",
    "\n",
    "# printing the summary table\n",
    "print(OutlierOLSModelTrainDrop.summary())"
   ]
  },
  {
   "cell_type": "markdown",
   "metadata": {},
   "source": [
    "*Your answer here*"
   ]
  },
  {
   "cell_type": "markdown",
   "metadata": {},
   "source": [
    "---\n",
    "\n",
    "<div class=\"theme\">  Question 4 - Regression Models with Polynomial and Interaction Terms </div>"
   ]
  },
  {
   "cell_type": "markdown",
   "metadata": {
    "button": false,
    "new_sheet": false,
    "run_control": {
     "read_only": false
    }
   },
   "source": [
    "<div class='exercise'> <b> Question 4.1 </b> </div>"
   ]
  },
  {
   "cell_type": "markdown",
   "metadata": {
    "button": false,
    "new_sheet": false,
    "run_control": {
     "read_only": false
    }
   },
   "source": [
    "Drop the variables `workingday`, `atemp`, `spring`, `summer`, and `fall` from `BSS_train` (if any of them still remain)."
   ]
  },
  {
   "cell_type": "code",
   "execution_count": 30,
   "metadata": {},
   "outputs": [
    {
     "data": {
      "text/html": [
       "<div>\n",
       "<style scoped>\n",
       "    .dataframe tbody tr th:only-of-type {\n",
       "        vertical-align: middle;\n",
       "    }\n",
       "\n",
       "    .dataframe tbody tr th {\n",
       "        vertical-align: top;\n",
       "    }\n",
       "\n",
       "    .dataframe thead th {\n",
       "        text-align: right;\n",
       "    }\n",
       "</style>\n",
       "<table border=\"1\" class=\"dataframe\">\n",
       "  <thead>\n",
       "    <tr style=\"text-align: right;\">\n",
       "      <th></th>\n",
       "      <th>hour</th>\n",
       "      <th>holiday</th>\n",
       "      <th>year</th>\n",
       "      <th>temp</th>\n",
       "      <th>hum</th>\n",
       "      <th>windspeed</th>\n",
       "      <th>counts</th>\n",
       "      <th>Feb</th>\n",
       "      <th>Mar</th>\n",
       "      <th>Apr</th>\n",
       "      <th>...</th>\n",
       "      <th>Dec</th>\n",
       "      <th>Mon</th>\n",
       "      <th>Tue</th>\n",
       "      <th>Wed</th>\n",
       "      <th>Thu</th>\n",
       "      <th>Fri</th>\n",
       "      <th>Sat</th>\n",
       "      <th>Cloudy</th>\n",
       "      <th>Snow</th>\n",
       "      <th>Storm</th>\n",
       "    </tr>\n",
       "  </thead>\n",
       "  <tbody>\n",
       "    <tr>\n",
       "      <th>0</th>\n",
       "      <td>21</td>\n",
       "      <td>0</td>\n",
       "      <td>1</td>\n",
       "      <td>0.24</td>\n",
       "      <td>0.60</td>\n",
       "      <td>0.2537</td>\n",
       "      <td>63</td>\n",
       "      <td>0</td>\n",
       "      <td>0</td>\n",
       "      <td>0</td>\n",
       "      <td>...</td>\n",
       "      <td>1</td>\n",
       "      <td>0</td>\n",
       "      <td>0</td>\n",
       "      <td>0</td>\n",
       "      <td>1</td>\n",
       "      <td>0</td>\n",
       "      <td>0</td>\n",
       "      <td>1</td>\n",
       "      <td>0</td>\n",
       "      <td>0</td>\n",
       "    </tr>\n",
       "    <tr>\n",
       "      <th>1</th>\n",
       "      <td>17</td>\n",
       "      <td>0</td>\n",
       "      <td>0</td>\n",
       "      <td>0.62</td>\n",
       "      <td>0.83</td>\n",
       "      <td>0.2537</td>\n",
       "      <td>479</td>\n",
       "      <td>0</td>\n",
       "      <td>0</td>\n",
       "      <td>0</td>\n",
       "      <td>...</td>\n",
       "      <td>0</td>\n",
       "      <td>0</td>\n",
       "      <td>0</td>\n",
       "      <td>0</td>\n",
       "      <td>1</td>\n",
       "      <td>0</td>\n",
       "      <td>0</td>\n",
       "      <td>0</td>\n",
       "      <td>1</td>\n",
       "      <td>0</td>\n",
       "    </tr>\n",
       "    <tr>\n",
       "      <th>2</th>\n",
       "      <td>9</td>\n",
       "      <td>0</td>\n",
       "      <td>1</td>\n",
       "      <td>0.76</td>\n",
       "      <td>0.66</td>\n",
       "      <td>0.1642</td>\n",
       "      <td>353</td>\n",
       "      <td>0</td>\n",
       "      <td>0</td>\n",
       "      <td>0</td>\n",
       "      <td>...</td>\n",
       "      <td>0</td>\n",
       "      <td>0</td>\n",
       "      <td>0</td>\n",
       "      <td>0</td>\n",
       "      <td>1</td>\n",
       "      <td>0</td>\n",
       "      <td>0</td>\n",
       "      <td>0</td>\n",
       "      <td>0</td>\n",
       "      <td>0</td>\n",
       "    </tr>\n",
       "    <tr>\n",
       "      <th>3</th>\n",
       "      <td>17</td>\n",
       "      <td>0</td>\n",
       "      <td>1</td>\n",
       "      <td>0.62</td>\n",
       "      <td>0.22</td>\n",
       "      <td>0.2985</td>\n",
       "      <td>411</td>\n",
       "      <td>0</td>\n",
       "      <td>0</td>\n",
       "      <td>1</td>\n",
       "      <td>...</td>\n",
       "      <td>0</td>\n",
       "      <td>0</td>\n",
       "      <td>0</td>\n",
       "      <td>0</td>\n",
       "      <td>0</td>\n",
       "      <td>0</td>\n",
       "      <td>0</td>\n",
       "      <td>0</td>\n",
       "      <td>0</td>\n",
       "      <td>0</td>\n",
       "    </tr>\n",
       "    <tr>\n",
       "      <th>4</th>\n",
       "      <td>8</td>\n",
       "      <td>0</td>\n",
       "      <td>1</td>\n",
       "      <td>0.18</td>\n",
       "      <td>0.40</td>\n",
       "      <td>0.1343</td>\n",
       "      <td>70</td>\n",
       "      <td>0</td>\n",
       "      <td>0</td>\n",
       "      <td>0</td>\n",
       "      <td>...</td>\n",
       "      <td>0</td>\n",
       "      <td>0</td>\n",
       "      <td>0</td>\n",
       "      <td>0</td>\n",
       "      <td>0</td>\n",
       "      <td>0</td>\n",
       "      <td>0</td>\n",
       "      <td>0</td>\n",
       "      <td>0</td>\n",
       "      <td>0</td>\n",
       "    </tr>\n",
       "  </tbody>\n",
       "</table>\n",
       "<p>5 rows × 27 columns</p>\n",
       "</div>"
      ],
      "text/plain": [
       "   hour  holiday  year  temp   hum  windspeed  counts  Feb  Mar  Apr  ...  \\\n",
       "0    21        0     1  0.24  0.60     0.2537      63    0    0    0  ...   \n",
       "1    17        0     0  0.62  0.83     0.2537     479    0    0    0  ...   \n",
       "2     9        0     1  0.76  0.66     0.1642     353    0    0    0  ...   \n",
       "3    17        0     1  0.62  0.22     0.2985     411    0    0    1  ...   \n",
       "4     8        0     1  0.18  0.40     0.1343      70    0    0    0  ...   \n",
       "\n",
       "   Dec  Mon  Tue  Wed  Thu  Fri  Sat  Cloudy  Snow  Storm  \n",
       "0    1    0    0    0    1    0    0       1     0      0  \n",
       "1    0    0    0    0    1    0    0       0     1      0  \n",
       "2    0    0    0    0    1    0    0       0     0      0  \n",
       "3    0    0    0    0    0    0    0       0     0      0  \n",
       "4    0    0    0    0    0    0    0       0     0      0  \n",
       "\n",
       "[5 rows x 27 columns]"
      ]
     },
     "execution_count": 30,
     "metadata": {},
     "output_type": "execute_result"
    }
   ],
   "source": [
    "# Your code here\n",
    "BSS_train =BSS_train.drop(['workingday', 'atemp', 'spring', 'summer', 'fall'],axis=1 )\n",
    "BSS_train.head()"
   ]
  },
  {
   "cell_type": "markdown",
   "metadata": {
    "button": false,
    "new_sheet": false,
    "run_control": {
     "read_only": false
    }
   },
   "source": [
    "<div class='exercise'> <b> Question 4.2 </b> </div>"
   ]
  },
  {
   "cell_type": "markdown",
   "metadata": {
    "button": false,
    "new_sheet": false,
    "run_control": {
     "read_only": false
    }
   },
   "source": [
    "Write a function to standardize a provided subset of columns in your training/validation/test sets. Remember that while you will be scaling all of your data, you must learn the scaling parameters (mean and SD) from only the training set.\n",
    "\n",
    "Test your code by building a list of all non-binary columns from `X_train` into a dataset called `practice_X_train` and scaling only those columns. Call the result `practice_X_train_scaled`. Display the `.describe()` and verify that you have correctly scaled all columns.\n",
    "\n",
    "**Hint: employ the provided list of binary columns and use `pd.columns.difference()`**\n",
    "\n",
    "`binary_columns = [ 'holiday', 'workingday','Feb', 'Mar', 'Apr',\n",
    "       'May', 'Jun', 'Jul', 'Aug', 'Sept', 'Oct', 'Nov', 'Dec', 'spring',\n",
    "       'summer', 'fall', 'Mon', 'Tue', 'Wed', 'Thu', 'Fri', 'Sat',\n",
    "       'Cloudy', 'Snow', 'Storm']`"
   ]
  },
  {
   "cell_type": "code",
   "execution_count": 32,
   "metadata": {},
   "outputs": [
    {
     "data": {
      "text/html": [
       "<div>\n",
       "<style scoped>\n",
       "    .dataframe tbody tr th:only-of-type {\n",
       "        vertical-align: middle;\n",
       "    }\n",
       "\n",
       "    .dataframe tbody tr th {\n",
       "        vertical-align: top;\n",
       "    }\n",
       "\n",
       "    .dataframe thead th {\n",
       "        text-align: right;\n",
       "    }\n",
       "</style>\n",
       "<table border=\"1\" class=\"dataframe\">\n",
       "  <thead>\n",
       "    <tr style=\"text-align: right;\">\n",
       "      <th></th>\n",
       "      <th>hour</th>\n",
       "      <th>hum</th>\n",
       "      <th>temp</th>\n",
       "      <th>windspeed</th>\n",
       "      <th>year</th>\n",
       "    </tr>\n",
       "  </thead>\n",
       "  <tbody>\n",
       "    <tr>\n",
       "      <th>count</th>\n",
       "      <td>8.689000e+03</td>\n",
       "      <td>8.689000e+03</td>\n",
       "      <td>8.689000e+03</td>\n",
       "      <td>8.689000e+03</td>\n",
       "      <td>8.689000e+03</td>\n",
       "    </tr>\n",
       "    <tr>\n",
       "      <th>mean</th>\n",
       "      <td>2.762461e-17</td>\n",
       "      <td>-4.148227e-16</td>\n",
       "      <td>-7.622961e-17</td>\n",
       "      <td>-1.466072e-16</td>\n",
       "      <td>-2.754411e-16</td>\n",
       "    </tr>\n",
       "    <tr>\n",
       "      <th>std</th>\n",
       "      <td>1.000058e+00</td>\n",
       "      <td>1.000058e+00</td>\n",
       "      <td>1.000058e+00</td>\n",
       "      <td>1.000058e+00</td>\n",
       "      <td>1.000058e+00</td>\n",
       "    </tr>\n",
       "    <tr>\n",
       "      <th>min</th>\n",
       "      <td>-1.666359e+00</td>\n",
       "      <td>-3.251974e+00</td>\n",
       "      <td>-2.474192e+00</td>\n",
       "      <td>-1.546636e+00</td>\n",
       "      <td>-1.006813e+00</td>\n",
       "    </tr>\n",
       "    <tr>\n",
       "      <th>25%</th>\n",
       "      <td>-8.042663e-01</td>\n",
       "      <td>-7.554808e-01</td>\n",
       "      <td>-8.122824e-01</td>\n",
       "      <td>-6.987336e-01</td>\n",
       "      <td>-1.006813e+00</td>\n",
       "    </tr>\n",
       "    <tr>\n",
       "      <th>50%</th>\n",
       "      <td>5.782674e-02</td>\n",
       "      <td>-2.733697e-02</td>\n",
       "      <td>1.867233e-02</td>\n",
       "      <td>2.746035e-02</td>\n",
       "      <td>9.932327e-01</td>\n",
       "    </tr>\n",
       "    <tr>\n",
       "      <th>75%</th>\n",
       "      <td>9.199197e-01</td>\n",
       "      <td>8.048274e-01</td>\n",
       "      <td>8.496271e-01</td>\n",
       "      <td>5.118601e-01</td>\n",
       "      <td>9.932327e-01</td>\n",
       "    </tr>\n",
       "    <tr>\n",
       "      <th>max</th>\n",
       "      <td>1.638331e+00</td>\n",
       "      <td>1.949053e+00</td>\n",
       "      <td>2.511537e+00</td>\n",
       "      <td>5.355858e+00</td>\n",
       "      <td>9.932327e-01</td>\n",
       "    </tr>\n",
       "  </tbody>\n",
       "</table>\n",
       "</div>"
      ],
      "text/plain": [
       "               hour           hum          temp     windspeed          year\n",
       "count  8.689000e+03  8.689000e+03  8.689000e+03  8.689000e+03  8.689000e+03\n",
       "mean   2.762461e-17 -4.148227e-16 -7.622961e-17 -1.466072e-16 -2.754411e-16\n",
       "std    1.000058e+00  1.000058e+00  1.000058e+00  1.000058e+00  1.000058e+00\n",
       "min   -1.666359e+00 -3.251974e+00 -2.474192e+00 -1.546636e+00 -1.006813e+00\n",
       "25%   -8.042663e-01 -7.554808e-01 -8.122824e-01 -6.987336e-01 -1.006813e+00\n",
       "50%    5.782674e-02 -2.733697e-02  1.867233e-02  2.746035e-02  9.932327e-01\n",
       "75%    9.199197e-01  8.048274e-01  8.496271e-01  5.118601e-01  9.932327e-01\n",
       "max    1.638331e+00  1.949053e+00  2.511537e+00  5.355858e+00  9.932327e-01"
      ]
     },
     "execution_count": 32,
     "metadata": {},
     "output_type": "execute_result"
    }
   ],
   "source": [
    "# Your code here\n",
    "binary_columns = [ 'holiday', 'workingday','Feb', 'Mar', 'Apr',\n",
    "       'May', 'Jun', 'Jul', 'Aug', 'Sept', 'Oct', 'Nov', 'Dec', 'spring',\n",
    "       'summer', 'fall', 'Mon', 'Tue', 'Wed', 'Thu', 'Fri', 'Sat',\n",
    "       'Cloudy', 'Snow', 'Storm']\n",
    "\n",
    "\n",
    "def standardize_function(dataframe):\n",
    "    practice_X_train = dataframe[dataframe.columns.difference(binary_columns)]\n",
    "    \n",
    "    df_scaled = pd.DataFrame(StandardScaler().fit_transform(practice_X_train), columns = practice_X_train.columns)\n",
    "    \n",
    "    return df_scaled\n",
    "    \n",
    "practice_X_train_scaled = standardize_function(xTrain)\n",
    "practice_X_train_scaled.describe()"
   ]
  },
  {
   "cell_type": "markdown",
   "metadata": {
    "button": false,
    "new_sheet": false,
    "run_control": {
     "read_only": false
    }
   },
   "source": [
    "<div class='exercise'> <b> Question 4.3 </b> </div>"
   ]
  },
  {
   "cell_type": "markdown",
   "metadata": {
    "button": false,
    "new_sheet": false,
    "run_control": {
     "read_only": false
    }
   },
   "source": [
    "Write a code to augment your a dataset with higher-order features for `temp`, `hum`,`windspeed`, and `hour`. You should include ONLY the pure powers of these columns. So with degree=2 you should produce `temp^2` and `hum^2` but not `temp*hum` or any other two-feature interactions. \n",
    "\n",
    "Encapsulate this process as a function with appropriate inputs and outputs, and test your code by producing `practice_X_train_poly`, a training dataset with quadratic and cubic features built from `practice_X_train_scaled`, and printing `practice_X_train_poly`'s column names and `.head()`."
   ]
  },
  {
   "cell_type": "code",
   "execution_count": 34,
   "metadata": {},
   "outputs": [
    {
     "data": {
      "text/html": [
       "<div>\n",
       "<style scoped>\n",
       "    .dataframe tbody tr th:only-of-type {\n",
       "        vertical-align: middle;\n",
       "    }\n",
       "\n",
       "    .dataframe tbody tr th {\n",
       "        vertical-align: top;\n",
       "    }\n",
       "\n",
       "    .dataframe thead th {\n",
       "        text-align: right;\n",
       "    }\n",
       "</style>\n",
       "<table border=\"1\" class=\"dataframe\">\n",
       "  <thead>\n",
       "    <tr style=\"text-align: right;\">\n",
       "      <th></th>\n",
       "      <th>hour</th>\n",
       "      <th>hum</th>\n",
       "      <th>temp</th>\n",
       "      <th>windspeed</th>\n",
       "      <th>year</th>\n",
       "      <th>hum^2</th>\n",
       "      <th>temp^2</th>\n",
       "      <th>windspeed^2</th>\n",
       "      <th>hour^2</th>\n",
       "    </tr>\n",
       "  </thead>\n",
       "  <tbody>\n",
       "    <tr>\n",
       "      <th>0</th>\n",
       "      <td>1.350966</td>\n",
       "      <td>-0.131358</td>\n",
       "      <td>-1.331629</td>\n",
       "      <td>0.511860</td>\n",
       "      <td>0.993233</td>\n",
       "      <td>0.017255</td>\n",
       "      <td>1.773236</td>\n",
       "      <td>0.262001</td>\n",
       "      <td>1.825110</td>\n",
       "    </tr>\n",
       "    <tr>\n",
       "      <th>1</th>\n",
       "      <td>0.776238</td>\n",
       "      <td>1.064879</td>\n",
       "      <td>0.641888</td>\n",
       "      <td>0.511860</td>\n",
       "      <td>-1.006813</td>\n",
       "      <td>1.133967</td>\n",
       "      <td>0.412021</td>\n",
       "      <td>0.262001</td>\n",
       "      <td>0.602545</td>\n",
       "    </tr>\n",
       "    <tr>\n",
       "      <th>2</th>\n",
       "      <td>-0.373220</td>\n",
       "      <td>0.180704</td>\n",
       "      <td>1.368974</td>\n",
       "      <td>-0.214334</td>\n",
       "      <td>0.993233</td>\n",
       "      <td>0.032654</td>\n",
       "      <td>1.874089</td>\n",
       "      <td>0.045939</td>\n",
       "      <td>0.139293</td>\n",
       "    </tr>\n",
       "    <tr>\n",
       "      <th>3</th>\n",
       "      <td>0.776238</td>\n",
       "      <td>-2.107748</td>\n",
       "      <td>0.641888</td>\n",
       "      <td>0.875363</td>\n",
       "      <td>0.993233</td>\n",
       "      <td>4.442601</td>\n",
       "      <td>0.412021</td>\n",
       "      <td>0.766260</td>\n",
       "      <td>0.602545</td>\n",
       "    </tr>\n",
       "    <tr>\n",
       "      <th>4</th>\n",
       "      <td>-0.516902</td>\n",
       "      <td>-1.171563</td>\n",
       "      <td>-1.643237</td>\n",
       "      <td>-0.456939</td>\n",
       "      <td>0.993233</td>\n",
       "      <td>1.372560</td>\n",
       "      <td>2.700228</td>\n",
       "      <td>0.208794</td>\n",
       "      <td>0.267188</td>\n",
       "    </tr>\n",
       "  </tbody>\n",
       "</table>\n",
       "</div>"
      ],
      "text/plain": [
       "       hour       hum      temp  windspeed      year     hum^2    temp^2  \\\n",
       "0  1.350966 -0.131358 -1.331629   0.511860  0.993233  0.017255  1.773236   \n",
       "1  0.776238  1.064879  0.641888   0.511860 -1.006813  1.133967  0.412021   \n",
       "2 -0.373220  0.180704  1.368974  -0.214334  0.993233  0.032654  1.874089   \n",
       "3  0.776238 -2.107748  0.641888   0.875363  0.993233  4.442601  0.412021   \n",
       "4 -0.516902 -1.171563 -1.643237  -0.456939  0.993233  1.372560  2.700228   \n",
       "\n",
       "   windspeed^2    hour^2  \n",
       "0     0.262001  1.825110  \n",
       "1     0.262001  0.602545  \n",
       "2     0.045939  0.139293  \n",
       "3     0.766260  0.602545  \n",
       "4     0.208794  0.267188  "
      ]
     },
     "execution_count": 34,
     "metadata": {},
     "output_type": "execute_result"
    }
   ],
   "source": [
    "# Your code here\n",
    "def higher_order(df_scaled, degree, cols):\n",
    "#   make a copy\n",
    "    df_copy = df_scaled.copy()\n",
    "    df_copy = df_scaled[cols]\n",
    "    #fit transform for the higher test\n",
    "    for i in range(1, degree):\n",
    "        transformer = PolynomialFeatures(degree, include_bias=False)\n",
    "        expanded_df =  transformer.fit_transform(df_copy)\n",
    "    \n",
    "        #make into df so can see col vars \n",
    "        columns = transformer.get_feature_names(df_copy.columns)\n",
    "        expanded_df = pd.DataFrame(expanded_df)\n",
    "        expanded_df.columns = columns\n",
    "    \n",
    "        #only do this if poly degree greater than 1\n",
    "        if degree !=1:\n",
    "            #get rid of 2 feacture interactions\n",
    "            degree_cols = [name + \"^\" + str(i+1) for name in cols]\n",
    "        \n",
    "            #new df with only the specific cols \n",
    "            degree_df = expanded_df[degree_cols]\n",
    "        \n",
    "            expanded_df = pd.concat([df_scaled, degree_df], axis = 1)\n",
    "        \n",
    "        return expanded_df\n",
    "    return\n",
    "    \n",
    "    \n",
    "    \n",
    "higher_order_feat = ['hum', 'temp', 'windspeed', 'hour']\n",
    "\n",
    "practice_X_train_poly = higher_order(practice_X_train_scaled, 2, higher_order_feat)\n",
    "practice_X_train_poly.head()"
   ]
  },
  {
   "cell_type": "markdown",
   "metadata": {
    "button": false,
    "new_sheet": false,
    "run_control": {
     "read_only": false
    }
   },
   "source": [
    "<div class='exercise'> <b> Question 4.4 </b> </div>"
   ]
  },
  {
   "cell_type": "markdown",
   "metadata": {
    "button": false,
    "new_sheet": false,
    "run_control": {
     "read_only": false
    }
   },
   "source": [
    "Write code to add interaction terms to the model. Specifically, we want interactions between the continuous predictors (`temp`, `hum`,`windspeed`) and the month and weekday dummies (`Feb`, `Mar`...`Dec`, `Mon`, `Tue`, ... `Sat`). That means you SHOULD build `temp*Feb` and `hum*Mon` and so on, but NOT `Feb*Mar` and NOT `Feb*Tue`. The interaction terms should always be a continuous feature times a month dummy or a continuous feature times a weekday dummy.\n",
    "\n",
    "Encapsulate this process as a function with appropriate inputs and outputs, and test your code by adding interaction terms to `practice_X_train_poly` and show its column names and `.head()`**"
   ]
  },
  {
   "cell_type": "code",
   "execution_count": null,
   "metadata": {},
   "outputs": [],
   "source": [
    "# Your code here"
   ]
  },
  {
   "cell_type": "markdown",
   "metadata": {
    "button": false,
    "new_sheet": false,
    "run_control": {
     "read_only": false
    }
   },
   "source": [
    "<div class='exercise'> <b> Question 4.5 </b> </div>"
   ]
  },
  {
   "cell_type": "markdown",
   "metadata": {
    "button": false,
    "new_sheet": false,
    "run_control": {
     "read_only": false
    }
   },
   "source": [
    "Combine all your code so far into a function named `get_design_mats` that takes in `BSS_train`, `BSS_test`, the names of columns for polynomial, the target column, the columns to be dropped and produces computation-ready design matrices `X_train` and `X_test` and responses `y_train` and `y_test`. Your final function should build correct, scaled design matrices with the stated interaction terms and any polynomial degree."
   ]
  },
  {
   "cell_type": "code",
   "execution_count": null,
   "metadata": {},
   "outputs": [],
   "source": [
    "def get_design_mats(train_df, val_df,  degree, \n",
    "                    columns_forpoly=['temp', 'hum','windspeed', 'hour'],\n",
    "                    target_col='counts', \n",
    "                    bad_columns=['counts']):\n",
    "    \"\"\"\n",
    "    :param train_df: The training data\n",
    "    :param val_df: Your test/validation data\n",
    "    :param columns_forpoly: List containing the column name for which we want to create \n",
    "                            polynomial terms\n",
    "    :param target_col: The response variable column\n",
    "    :param bad_columns: The columns you want to drop\n",
    "    \"\"\"\n",
    "    \n",
    "    # Add code here \n",
    "    return x_train,y_train, x_val,y_val\n"
   ]
  },
  {
   "cell_type": "markdown",
   "metadata": {
    "button": false,
    "new_sheet": false,
    "run_control": {
     "read_only": false
    }
   },
   "source": [
    "<div class='exercise'> <b> Question 4.6 </b> </div>"
   ]
  },
  {
   "cell_type": "markdown",
   "metadata": {
    "button": false,
    "new_sheet": false,
    "run_control": {
     "read_only": false
    }
   },
   "source": [
    "For each degree in 1 through 8:\n",
    "\n",
    "1.  Build the training design matrix and validation design matrix using the function `get_design_mats` with polynomial terms up through the specified degree.\n",
    "\n",
    "2.  Fit a regression model to the training data.\n",
    "\n",
    "3.  Report the model's score on the test data."
   ]
  },
  {
   "cell_type": "code",
   "execution_count": null,
   "metadata": {},
   "outputs": [],
   "source": [
    "\"\"\"\n",
    "    :param train_df: The training data\n",
    "    :param val_df: Your test/validation data\n",
    "    :param columns_forpoly: List containing the column name for which we want to create \n",
    "                            polynomial terms\n",
    "    :param target_col: The response variable column\n",
    "    :param bad_columns: The columns you want to drop\n",
    "    \"\"\""
   ]
  },
  {
   "cell_type": "markdown",
   "metadata": {
    "button": false,
    "new_sheet": false,
    "run_control": {
     "read_only": false
    }
   },
   "source": [
    "<div class='exercise'> <b> Question 4.7 </b> </div>"
   ]
  },
  {
   "cell_type": "markdown",
   "metadata": {
    "button": false,
    "new_sheet": false,
    "run_control": {
     "read_only": false
    }
   },
   "source": [
    "Discuss patterns you see in the results from 4.5. Which model would you select, and why?"
   ]
  },
  {
   "cell_type": "markdown",
   "metadata": {},
   "source": [
    "*Your answer here*"
   ]
  },
  {
   "cell_type": "markdown",
   "metadata": {},
   "source": [
    "<div class='exercise'> <b> Question 4.8 </b> </div>"
   ]
  },
  {
   "cell_type": "markdown",
   "metadata": {},
   "source": [
    "Reflect back on the `get_design_mats` function you built. In what way was writing this function useful in your analysis? What issues might you have encountered if you copy/pasted the model-building code instead of tying it together in a function? Does a `get_design_mat` function seem wise in general, or are there better options?"
   ]
  },
  {
   "cell_type": "markdown",
   "metadata": {},
   "source": [
    "*Your answer here*"
   ]
  },
  {
   "cell_type": "markdown",
   "metadata": {},
   "source": [
    "---\n",
    "\n",
    "<div class=\"theme\">  Question 5 - Regularized Models </div>"
   ]
  },
  {
   "cell_type": "markdown",
   "metadata": {
    "button": false,
    "new_sheet": false,
    "run_control": {
     "read_only": false
    }
   },
   "source": [
    "<div class='exercise'> <b> Question 5.1 </b> </div>"
   ]
  },
  {
   "cell_type": "markdown",
   "metadata": {
    "button": false,
    "new_sheet": false,
    "run_control": {
     "read_only": false
    }
   },
   "source": [
    "Let's try regularizing our models via ridge regression. Split the training set, `BSS_train`, into an 80-20 train-validation split.  Build a table showing the validation set $R^2$ of polynomial models with degree from 1-8, using your `get_design_mats` function, regularized at the levels $\\lambda = (.01, .05, .1,.5, 1, 5, 10, 50, 100)$. Do not perform cross validation at this point, simply report performance on the single validation set. "
   ]
  },
  {
   "cell_type": "code",
   "execution_count": null,
   "metadata": {},
   "outputs": [],
   "source": [
    "# Your code here"
   ]
  },
  {
   "cell_type": "markdown",
   "metadata": {
    "button": false,
    "new_sheet": false,
    "run_control": {
     "read_only": false
    }
   },
   "source": [
    "<div class='exercise'> <b> Question 5.2 </b> </div>"
   ]
  },
  {
   "cell_type": "markdown",
   "metadata": {
    "button": false,
    "new_sheet": false,
    "run_control": {
     "read_only": false
    }
   },
   "source": [
    "Find the best-scoring degree and regularization combination."
   ]
  },
  {
   "cell_type": "code",
   "execution_count": null,
   "metadata": {},
   "outputs": [],
   "source": [
    "# Your code here"
   ]
  },
  {
   "cell_type": "markdown",
   "metadata": {
    "button": false,
    "new_sheet": false,
    "run_control": {
     "read_only": false
    }
   },
   "source": [
    "<div class='exercise'> <b> Question 5.3 </b> </div>"
   ]
  },
  {
   "cell_type": "markdown",
   "metadata": {
    "button": false,
    "new_sheet": false,
    "run_control": {
     "read_only": false
    }
   },
   "source": [
    "It's time to see how well our selected model will do on future data. Use the earlier created test dataset, do any required formatting, and report the best model's $R^2$ score. How does it compare to the validation set score that made us choose this model? Does the test set simply have observations that are more difficult or easier to predict?"
   ]
  },
  {
   "cell_type": "code",
   "execution_count": null,
   "metadata": {},
   "outputs": [],
   "source": [
    "# Your code here"
   ]
  },
  {
   "cell_type": "markdown",
   "metadata": {},
   "source": [
    "*Your answer here*"
   ]
  },
  {
   "cell_type": "markdown",
   "metadata": {
    "button": false,
    "new_sheet": false,
    "run_control": {
     "read_only": false
    }
   },
   "source": [
    "<div class='exercise'> <b> Question 5.4 </b> </div>"
   ]
  },
  {
   "cell_type": "markdown",
   "metadata": {
    "button": false,
    "new_sheet": false,
    "run_control": {
     "read_only": false
    }
   },
   "source": [
    "Build a dataset with polynomial degree 1 and fit an OLS model, a Ridge model, and a Lasso model. Use `RidgeCV` and `LassoCV` to select the best regularization level from among `(.1,.5,1,5,10,50,100)`. \n",
    "\n",
    "Note: On the lasso model, you may need to increase `max_iter` (start with 100,000) for the optimization to converge."
   ]
  },
  {
   "cell_type": "code",
   "execution_count": null,
   "metadata": {},
   "outputs": [],
   "source": [
    "# Your code here"
   ]
  },
  {
   "cell_type": "markdown",
   "metadata": {
    "button": false,
    "new_sheet": false,
    "run_control": {
     "read_only": false
    }
   },
   "source": [
    "<div class='exercise'> <b> Question 5.5 </b> </div>"
   ]
  },
  {
   "cell_type": "markdown",
   "metadata": {
    "button": false,
    "new_sheet": false,
    "run_control": {
     "read_only": false
    }
   },
   "source": [
    "Plot histograms of the coefficients found by each of OLS, ridge, and lasso. What trends do you see in the magnitude of the coefficients?"
   ]
  },
  {
   "cell_type": "code",
   "execution_count": null,
   "metadata": {},
   "outputs": [],
   "source": [
    "# Your code here"
   ]
  },
  {
   "cell_type": "markdown",
   "metadata": {},
   "source": [
    "*Your answer here*"
   ]
  },
  {
   "cell_type": "markdown",
   "metadata": {
    "button": false,
    "new_sheet": false,
    "run_control": {
     "read_only": false
    }
   },
   "source": [
    "<div class='exercise'> <b> Question 5.6 </b> </div>"
   ]
  },
  {
   "cell_type": "markdown",
   "metadata": {
    "button": false,
    "new_sheet": false,
    "run_control": {
     "read_only": false
    }
   },
   "source": [
    "The plots above show the overall distribution of coefficient values in each model, but do not show how each model treats individual coefficients. Build a plot which cleanly presents, for each feature in the data, 1) The coefficient assigned by OLS, 2) the coefficient assigned by ridge, and 3) the coefficient assigned by lasso.\n",
    "\n",
    "**Hint: Bar plots are a possible choice, but you are not required to use them**\n",
    "\n",
    "**Hint: use `xticks` to label coefficients with their feature names**"
   ]
  },
  {
   "cell_type": "code",
   "execution_count": null,
   "metadata": {},
   "outputs": [],
   "source": [
    "# Your code here"
   ]
  },
  {
   "cell_type": "markdown",
   "metadata": {
    "button": false,
    "new_sheet": false,
    "run_control": {
     "read_only": false
    }
   },
   "source": [
    "<div class='exercise'> <b> Question 5.7: </b> What trends do you see in the plot above? </div>"
   ]
  },
  {
   "cell_type": "markdown",
   "metadata": {
    "button": false,
    "new_sheet": false,
    "run_control": {
     "read_only": false
    }
   },
   "source": [
    "*Your answer here*"
   ]
  },
  {
   "cell_type": "markdown",
   "metadata": {},
   "source": [
    "<div class=\"theme\">  Question 6 - Reflection </div>"
   ]
  },
  {
   "cell_type": "markdown",
   "metadata": {
    "button": false,
    "new_sheet": false,
    "run_control": {
     "read_only": false
    }
   },
   "source": [
    "These problems are open-ended, and you are not expected to write more than 2-3 sentences. We are interested in seeing that you have thought about these issues; you will be graded on how well you justify your conclusions here, not on what you conclude."
   ]
  },
  {
   "cell_type": "markdown",
   "metadata": {
    "button": false,
    "new_sheet": false,
    "run_control": {
     "read_only": false
    }
   },
   "source": [
    "<div class='exercise'> <b> Question 6.1 </b></div>"
   ]
  },
  {
   "cell_type": "markdown",
   "metadata": {
    "button": false,
    "new_sheet": false,
    "run_control": {
     "read_only": false
    }
   },
   "source": [
    "What are the costs and benefits of applying ridge/lasso regularization to an overfit OLS model, versus setting a specific degree of polynomial or forward selecting polynomial features for the model?"
   ]
  },
  {
   "cell_type": "markdown",
   "metadata": {},
   "source": [
    "*Your answer here*"
   ]
  },
  {
   "cell_type": "markdown",
   "metadata": {
    "button": false,
    "new_sheet": false,
    "run_control": {
     "read_only": false
    }
   },
   "source": [
    "<div class='exercise'> <b> Question 6.2 </b></div>"
   ]
  },
  {
   "cell_type": "markdown",
   "metadata": {
    "button": false,
    "new_sheet": false,
    "run_control": {
     "read_only": false
    }
   },
   "source": [
    "This pset posed a purely predictive goal: forecast ridership as accurately as possible. How important is interpretability in this context? Considering, e.g., your lasso and ridge models from Question 5, how would you react if the models predicted well, but the coefficient values didn't make sense once interpreted?"
   ]
  },
  {
   "cell_type": "markdown",
   "metadata": {},
   "source": [
    "*Your answer here*"
   ]
  },
  {
   "cell_type": "markdown",
   "metadata": {
    "button": false,
    "new_sheet": false,
    "run_control": {
     "read_only": false
    }
   },
   "source": [
    "<div class='exercise'> <b> Question 6.3 </b></div>"
   ]
  },
  {
   "cell_type": "markdown",
   "metadata": {
    "button": false,
    "new_sheet": false,
    "run_control": {
     "read_only": false
    }
   },
   "source": [
    "Reflect back on our original goal of helping BikeShare predict what demand will be like in the week ahead, and thus how many bikes they can bring in for maintenance. In your view, did we accomplish this goal? If yes, which model would you put into production and why? If not, which model came closest, what other analyses might you conduct, and how likely do you think they are to work?"
   ]
  },
  {
   "cell_type": "markdown",
   "metadata": {},
   "source": [
    "*Your answer here*"
   ]
  },
  {
   "cell_type": "code",
   "execution_count": null,
   "metadata": {},
   "outputs": [],
   "source": []
  }
 ],
 "metadata": {
  "kernelspec": {
   "display_name": "Python 3",
   "language": "python",
   "name": "python3"
  },
  "language_info": {
   "codemirror_mode": {
    "name": "ipython",
    "version": 3
   },
   "file_extension": ".py",
   "mimetype": "text/x-python",
   "name": "python",
   "nbconvert_exporter": "python",
   "pygments_lexer": "ipython3",
   "version": "3.8.8"
  }
 },
 "nbformat": 4,
 "nbformat_minor": 4
}
