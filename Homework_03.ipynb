{
 "cells": [
  {
   "cell_type": "markdown",
   "metadata": {},
   "source": [
    "<div class='heading'>\n",
    "    <div style='float:left;'><h1>CPSC 4300/6300: Applied Data Science</h1></div>\n",
    "    <img style=\"float: right; padding-right: 10px; width: 65px\" src=\"https://raw.githubusercontent.com/bsethwalker/clemson-cs4300/main/images/clemson_paw.png\"> </div>\n",
    "\n",
    "\n",
    "## Homework 2: k-NN Regression\n",
    "\n",
    "**Clemson University**<br>\n",
    "**Fall 2021**<br>\n",
    "**Instructor(s):** Nina Hubig <br>\n",
    "\n",
    "\n",
    "---\n",
    "\n"
   ]
  },
  {
   "cell_type": "code",
   "execution_count": 1,
   "metadata": {},
   "outputs": [
    {
     "data": {
      "text/html": [
       "<style>\n",
       "blockquote { background: #AEDE94; }\n",
       "\n",
       "div.heading {\n",
       "margin-bottom: 25px;\n",
       "height: 75px;\n",
       "}\n",
       "\n",
       "h1 { \n",
       "    padding-top: 25px;\n",
       "    padding-bottom: 25px;\n",
       "    text-align: left; \n",
       "    padding-left: 10px;\n",
       "    color: black;\n",
       "}\n",
       "\n",
       "h2 { \n",
       "    padding-top: 10px;\n",
       "    padding-bottom: 10px;\n",
       "    text-align: left; \n",
       "    padding-left: 5px;\n",
       "    background-color: #EEEEEE; \n",
       "    color: black;\n",
       "}\n",
       "\n",
       "div.exercise {\n",
       "    \n",
       "    background: rgba(245, 102, 0, .75);\n",
       "    border-color: #E9967A;\n",
       "    border-left: 5px solid #522D80; \n",
       "    padding: 0.5em;\n",
       "}\n",
       "\n",
       "div.exercise-r {\n",
       "    background-color: #fce8e8;\n",
       "    border-color: #E9967A; \t\n",
       "    border-left: 5px solid #800080; \n",
       "    padding: 0.5em;\n",
       "}\n",
       "\n",
       "span.sub-q {\n",
       "    font-weight: bold;\n",
       "}\n",
       "div.theme {\n",
       "    background-color: #DDDDDD;\n",
       "    border-color: #E9967A; \t\n",
       "    border-left: 5px solid #800080; \n",
       "    padding: 0.5em;\n",
       "    font-size: 18pt;\n",
       "}\n",
       "div.gc { \n",
       "    background-color: #AEDE94;\n",
       "    border-color: #E9967A; \t \n",
       "    border-left: 5px solid #800080; \n",
       "    padding: 0.5em;\n",
       "    font-size: 12pt;\n",
       "}\n",
       "p.q1 { \n",
       "    padding-top: 5px;\n",
       "    padding-bottom: 5px;\n",
       "    text-align: left; \n",
       "    padding-left: 5px;\n",
       "    background-color: #EEEEEE; \n",
       "    color: black;\n",
       "}\n",
       "header {\n",
       "   padding-top: 35px;\n",
       "    padding-bottom: 35px;\n",
       "    text-align: left; \n",
       "    padding-left: 10px;\n",
       "    background-color: #DDDDDD; \n",
       "    color: black;\n",
       "}\n",
       "</style>"
      ],
      "text/plain": [
       "<IPython.core.display.HTML object>"
      ]
     },
     "execution_count": 1,
     "metadata": {},
     "output_type": "execute_result"
    }
   ],
   "source": [
    "\"\"\" RUN THIS CELL TO GET THE RIGHT FORMATTING \"\"\"\n",
    "import requests\n",
    "from IPython.core.display import HTML\n",
    "css_file = 'https://raw.githubusercontent.com/bsethwalker/clemson-cs4300/main/css/cpsc6300.css'\n",
    "styles = requests.get(css_file).text\n",
    "HTML(styles)"
   ]
  },
  {
   "cell_type": "markdown",
   "metadata": {},
   "source": [
    "### INSTRUCTIONS\n",
    "\n",
    "- To submit your assignment follow the instructions given in Canvas.\n",
    "- Restart the kernel and run the whole notebook again before you submit. \n",
    "- If you submit individually and you have worked with someone, please include the name of your [one] partner below. \n",
    "- As much as possible, try and stick to the hints and functions we import at the top of the homework, as those are the ideas and tools the class supports and is aiming to teach. And if a problem specifies a particular library you're required to use that library, and possibly others from the import list.\n",
    "- Please use .head() when viewing data. Do not submit a notebook that is excessively long because output was not suppressed or otherwise limited. "
   ]
  },
  {
   "cell_type": "markdown",
   "metadata": {},
   "source": [
    "---\n",
    "\n",
    "In this homework, we will explore regression methods for predicting a quantitative variable. Specifically, we will build regression models that can predict the number of taxi pickups in New York City at any given time of the day. These prediction models will be useful, for example, in monitoring traffic in the city.\n",
    "\n",
    "The data set for this problem is given in the file `nyc_taxi.csv`.  You will need to separate it into training and test sets. The first column contains the time of a day in minutes, and the second column contains the number of pickups observed at that time. The data set covers taxi pickups recorded in NYC during Jan 2015.\n",
    "\n",
    "We will fit models that use the time of the day (in minutes) as a predictor and predict the average number of taxi pickups at that time. The models will be fitted to the training set and evaluated on the test set. The performance of the models will be evaluated using the $R^2$ metric."
   ]
  },
  {
   "cell_type": "code",
   "execution_count": 2,
   "metadata": {
    "scrolled": true
   },
   "outputs": [],
   "source": [
    "import numpy as np\n",
    "import pandas as pd\n",
    "\n",
    "from sklearn.metrics import r2_score\n",
    "from sklearn.neighbors import KNeighborsRegressor\n",
    "from sklearn.linear_model import LinearRegression\n",
    "from sklearn.model_selection import train_test_split\n",
    "import statsmodels.api as sm\n",
    "from statsmodels.api import OLS\n",
    "\n",
    "import matplotlib.pyplot as plt\n",
    "import seaborn as sns\n",
    "sns.set()\n",
    "\n",
    "%matplotlib inline"
   ]
  },
  {
   "cell_type": "markdown",
   "metadata": {},
   "source": [
    "<div class=\"theme\"> Question 1 </div>"
   ]
  },
  {
   "cell_type": "markdown",
   "metadata": {},
   "source": [
    "We next consider simple linear regression, which we know from lecture is a parametric approach for regression that assumes that the response variable has a linear relationship with the predictor.  Use the `statsmodels` module for Linear Regression. This module has built-in functions to summarize the results of regression and to compute confidence intervals for estimated regression parameters.  "
   ]
  },
  {
   "cell_type": "markdown",
   "metadata": {},
   "source": [
    "<div class=\"exercise\"> <b> Question 1.1 </b> Use pandas to load the dataset from the csv file `nyc_taxi.csv` into a pandas data frame.  Use the `train_test_split` method from `sklearn` with a `random_state` of 42 and a `test_size` of 0.2 to split the dataset into training and test sets.  Store your train set data frame as `train_data` and your test set data frame as `test_data`.</div>"
   ]
  },
  {
   "cell_type": "code",
   "execution_count": 3,
   "metadata": {
    "scrolled": true
   },
   "outputs": [],
   "source": [
    "# Your code here\n",
    "nyc_taxi = pd.read_csv(\"nyc_taxi.csv\")\n",
    "train_data, test_data = train_test_split(nyc_taxi, test_size=0.2, random_state=42)"
   ]
  },
  {
   "cell_type": "markdown",
   "metadata": {},
   "source": [
    "<div class=\"exercise\"> <b> Question 1.2 </b> </div>"
   ]
  },
  {
   "cell_type": "markdown",
   "metadata": {},
   "source": [
    "Again choose `TimeMin` as your predictor and `PickupCount` as your response variable.  Create an `OLS` class instance and use it to fit a Linear Regression model on the training set (`train_data`).  Store your fitted model in the variable `OLSModel`."
   ]
  },
  {
   "cell_type": "code",
   "execution_count": 4,
   "metadata": {
    "scrolled": true
   },
   "outputs": [
    {
     "name": "stdout",
     "output_type": "stream",
     "text": [
      "                            OLS Regression Results                            \n",
      "==============================================================================\n",
      "Dep. Variable:            PickupCount   R-squared:                       0.243\n",
      "Model:                            OLS   Adj. R-squared:                  0.242\n",
      "Method:                 Least Squares   F-statistic:                     320.4\n",
      "Date:                Fri, 17 Sep 2021   Prob (F-statistic):           2.34e-62\n",
      "Time:                        02:27:17   Log-Likelihood:                -4232.9\n",
      "No. Observations:                1000   AIC:                             8470.\n",
      "Df Residuals:                     998   BIC:                             8480.\n",
      "Df Model:                           1                                         \n",
      "Covariance Type:            nonrobust                                         \n",
      "==============================================================================\n",
      "                 coef    std err          t      P>|t|      [0.025      0.975]\n",
      "------------------------------------------------------------------------------\n",
      "const         16.7506      1.058     15.838      0.000      14.675      18.826\n",
      "TimeMin        0.0233      0.001     17.900      0.000       0.021       0.026\n",
      "==============================================================================\n",
      "Omnibus:                      203.688   Durbin-Watson:                   1.910\n",
      "Prob(Omnibus):                  0.000   Jarque-Bera (JB):              462.910\n",
      "Skew:                           1.111   Prob(JB):                    3.02e-101\n",
      "Kurtosis:                       5.485   Cond. No.                     1.63e+03\n",
      "==============================================================================\n",
      "\n",
      "Notes:\n",
      "[1] Standard Errors assume that the covariance matrix of the errors is correctly specified.\n",
      "[2] The condition number is large, 1.63e+03. This might indicate that there are\n",
      "strong multicollinearity or other numerical problems.\n"
     ]
    }
   ],
   "source": [
    "# Your code here\n",
    "x_train = train_data['TimeMin']\n",
    "y_train = train_data['PickupCount']\n",
    "x_test = test_data['TimeMin']\n",
    "y_test = test_data['PickupCount']\n",
    "X_train = sm.add_constant(x_train)\n",
    "X_test = sm.add_constant(x_test)\n",
    "OLS = sm.OLS(y_train, X_train)\n",
    "OLSModel = OLS.fit()\n",
    "print(OLSModel.summary())\n"
   ]
  },
  {
   "cell_type": "markdown",
   "metadata": {},
   "source": [
    "<div class=\"exercise\"> <b> Question 1.3 </b> </div>"
   ]
  },
  {
   "cell_type": "markdown",
   "metadata": {},
   "source": [
    "Create a plot just like you did in question 2.2 from Homework 2 (but with fewer subplots): plot both the observed values and the predictions from `OLSModel` on the training and test set. You should have one figure with two subplots, one subplot for the training set and one for the test set.\n",
    "\n",
    "**Hints**:\n",
    "1. Each subplot should use different color and/or markers to distinguish Linear Regression prediction values from that of the actual data values.\n",
    "2. Each subplot must have appropriate axis labels, title, and legend.\n",
    "3. The overall figure should have a title.  "
   ]
  },
  {
   "cell_type": "code",
   "execution_count": 5,
   "metadata": {
    "scrolled": true
   },
   "outputs": [
    {
     "data": {
      "text/plain": [
       "<matplotlib.legend.Legend at 0x153bfb5a370>"
      ]
     },
     "execution_count": 5,
     "metadata": {},
     "output_type": "execute_result"
    },
    {
     "data": {
      "image/png": "[encoded data removed]",
      "text/plain": [
       "<Figure size 1080x360 with 2 Axes>"
      ]
     },
     "metadata": {
      "needs_background": "light"
     },
     "output_type": "display_data"
    }
   ],
   "source": [
    "# Your code here\n",
    "ytrain_pred = OLSModel.predict(X_train)\n",
    "ytest_pred = OLSModel.predict(X_test)\n",
    "fig, (ax1, ax2) = plt.subplots(1,2, figsize = (15, 5))\n",
    "fig.suptitle('Predictions vs Actuals', fontsize=14)\n",
    "ax1.scatter(x_train, y_train, color='b',label='Actual')\n",
    "ax1.scatter(x_train, ytrain_pred, color='tab:orange',label ='Predicted')\n",
    "ax1.set_title('Training Set')\n",
    "ax1.set_xlabel('Time of Day in Minutes')\n",
    "ax1.set_ylabel('Pickup Count')\n",
    "ax1.legend()\n",
    "ax2.scatter(x_test, y_test, label='Actual', color='b')\n",
    "ax2.scatter(x_test, ytest_pred, color='tab:orange',label ='Predicted')\n",
    "ax2.set_title('Test Set')\n",
    "ax2.set_xlabel('Time of Day in Minutes')\n",
    "ax2.set_ylabel('Pickup Count')\n",
    "ax2.legend()\n",
    "\n"
   ]
  },
  {
   "cell_type": "markdown",
   "metadata": {},
   "source": [
    "<div class=\"exercise\"> <b> Question 1.4 </b> </div>"
   ]
  },
  {
   "cell_type": "markdown",
   "metadata": {},
   "source": [
    "Report the $R^2$ score for the fitted model on both the training and test sets."
   ]
  },
  {
   "cell_type": "code",
   "execution_count": 6,
   "metadata": {
    "scrolled": true
   },
   "outputs": [
    {
     "name": "stdout",
     "output_type": "stream",
     "text": [
      "r2_training is 0.24302603531893352\n",
      "r2_test is 0.240661535615741\n"
     ]
    }
   ],
   "source": [
    "# Your code here\n",
    "r2_train = r2_score(y_train, ytrain_pred)\n",
    "r2_test = r2_score(y_test, ytest_pred)\n",
    "print('r2_training is', r2_train)\n",
    "print('r2_test is', r2_test)"
   ]
  },
  {
   "cell_type": "markdown",
   "metadata": {},
   "source": [
    "<div class=\"exercise\"> <b> Question 1.5 </b> </div>"
   ]
  },
  {
   "cell_type": "markdown",
   "metadata": {},
   "source": [
    "Report the estimates for the slope and intercept for the fitted linear model.  "
   ]
  },
  {
   "cell_type": "code",
   "execution_count": 7,
   "metadata": {
    "scrolled": true
   },
   "outputs": [
    {
     "name": "stdout",
     "output_type": "stream",
     "text": [
      "The regression coef from statsmodels are: beta_0 = 16.750601 and beta_1 = 0.023335\n"
     ]
    }
   ],
   "source": [
    "# Your code here\n",
    "beta0_sm = OLSModel.params[0]\n",
    "beta1_sm = OLSModel.params[1]\n",
    "print(f'The regression coef from statsmodels are: beta_0 = {beta0_sm:8.6f} and beta_1 = {beta1_sm:8.6f}')"
   ]
  },
  {
   "cell_type": "markdown",
   "metadata": {},
   "source": [
    "<div class=\"exercise\"> <b> Question 1.6 </b> </div>"
   ]
  },
  {
   "cell_type": "markdown",
   "metadata": {},
   "source": [
    "Report the $95\\%$ confidence intervals (CIs) for the slope and intercept.  "
   ]
  },
  {
   "cell_type": "code",
   "execution_count": 8,
   "metadata": {},
   "outputs": [
    {
     "data": {
      "text/html": [
       "<div>\n",
       "<style scoped>\n",
       "    .dataframe tbody tr th:only-of-type {\n",
       "        vertical-align: middle;\n",
       "    }\n",
       "\n",
       "    .dataframe tbody tr th {\n",
       "        vertical-align: top;\n",
       "    }\n",
       "\n",
       "    .dataframe thead th {\n",
       "        text-align: right;\n",
       "    }\n",
       "</style>\n",
       "<table border=\"1\" class=\"dataframe\">\n",
       "  <thead>\n",
       "    <tr style=\"text-align: right;\">\n",
       "      <th></th>\n",
       "      <th>0</th>\n",
       "      <th>1</th>\n",
       "    </tr>\n",
       "  </thead>\n",
       "  <tbody>\n",
       "    <tr>\n",
       "      <th>const</th>\n",
       "      <td>14.675141</td>\n",
       "      <td>18.826062</td>\n",
       "    </tr>\n",
       "    <tr>\n",
       "      <th>TimeMin</th>\n",
       "      <td>0.020777</td>\n",
       "      <td>0.025893</td>\n",
       "    </tr>\n",
       "  </tbody>\n",
       "</table>\n",
       "</div>"
      ],
      "text/plain": [
       "                 0          1\n",
       "const    14.675141  18.826062\n",
       "TimeMin   0.020777   0.025893"
      ]
     },
     "execution_count": 8,
     "metadata": {},
     "output_type": "execute_result"
    }
   ],
   "source": [
    "# Your code here\n",
    "OLSModel.conf_int(alpha=0.05, cols =None)"
   ]
  },
  {
   "cell_type": "markdown",
   "metadata": {},
   "source": [
    "<div class=\"exercise\"> <b> Question 1.7 </b> </div>"
   ]
  },
  {
   "cell_type": "markdown",
   "metadata": {},
   "source": [
    "Discuss the results:\n",
    "\n",
    "1. How does the test $R^2$ score compare with the best test $R^2$ value obtained with k-NN regression?  Describe why this is not surprising for these data.\n",
    "2. What does the sign of the slope of the fitted linear model convey about the data?  \n",
    "3. Interpret the $95\\%$ confidence intervals from 3.5.  Based on these CIs is there evidence to suggest that the number of taxi pickups has a significant linear relationship with time of day?  How do you know? \n",
    "4. How would $99\\%$ confidence intervals for the slope and intercept compare to the $95\\%$ confidence intervals (in terms of midpoint and width)?  Briefly explain your answer.  \n",
    "5. Based on the data structure, what restriction on the model would you put at the endpoints (at $x\\approx0$ and $x\\approx1440$)?   What does this say about the appropriateness of a linear model?"
   ]
  },
  {
   "cell_type": "markdown",
   "metadata": {},
   "source": [
    "*your answer here*  \n",
    "1. The test R^2 score is smaller than the best test R^2 value (at K=75) with k-NN regression. Because these data have two trends, upward and downward, but linear regression has only one trend depending on the slope, thus the resulting model will provide a poor fit to the data than k-NN.\n",
    "2. The slope of the fitted linear model convey about the ratio between the predictor and the response variable. In other words, we can understand that the slope is the rate of change in the response variable when the predictor increases by 1.\n",
    "3. The 95% confidence intervals is a range of values that you can be 95% certain contains the slope and intercept of the fitted linear model. We are able to say that the number of taxi as a signigicant linear relationship with time of day. It is easy to know as the 95% confidence interval of the slope is very small.\n",
    "4. The 99% confidence intervals for slope and intercept are larger in width, and the same with the midpoint compare to the 95% confidence intervals. Because the fitted model has a certain slope and intercept, so the midpoint is unchanged. The 99% confidence intervals have a more extensive range of values, thus larger in width than 95% confidence intervals.\n",
    "5. At the endpoints 𝑥≈0 and 𝑥≈1440, it should be two values close to the same based on the data structure, but the fitted model calculates two very far different values. A linear model is only appropriate with the data has one clear tendency upward or downward."
   ]
  },
  {
   "cell_type": "markdown",
   "metadata": {},
   "source": [
    "<div class=\"theme\"> Question 2 </div>"
   ]
  },
  {
   "cell_type": "markdown",
   "metadata": {},
   "source": [
    "You may recall from lectures that OLS Linear Regression can be susceptible to outliers in the data.  We're going to look at a dataset that includes some outliers and get a sense for how that affects modeling data with Linear Regression.  **Note, this is an open-ended question, there is not one correct solution (or one correct definition of an outlier).**"
   ]
  },
  {
   "cell_type": "markdown",
   "metadata": {},
   "source": [
    "<div class=\"exercise\"><b> Question 2.1 </b></div>"
   ]
  },
  {
   "cell_type": "markdown",
   "metadata": {},
   "source": [
    "We've provided you with two files `outliers_train.csv` and `outliers_test.csv` corresponding to training set and test set data.  What does a visual inspection of training set tell you about the existence of outliers in the data?"
   ]
  },
  {
   "cell_type": "code",
   "execution_count": 9,
   "metadata": {},
   "outputs": [
    {
     "data": {
      "image/png": "[encoded data removed]",
      "text/plain": [
       "<Figure size 1080x432 with 1 Axes>"
      ]
     },
     "metadata": {
      "needs_background": "light"
     },
     "output_type": "display_data"
    }
   ],
   "source": [
    "# Your code here\n",
    "trainingset = pd.read_csv(\"outliers_train.csv\")\n",
    "x_otrain = trainingset['X']\n",
    "y_otrain = trainingset['Y']\n",
    "fig, ax = plt.subplots(1, 1, figsize=(15,6))\n",
    "ax.scatter(x_otrain, y_otrain, label='Training set', alpha=0.5)\n",
    "ax.set_title('Training set')\n",
    "ax.set_xlabel('x_otrain')\n",
    "ax.set_ylabel('y_otrain')\n",
    "ax.legend();"
   ]
  },
  {
   "cell_type": "markdown",
   "metadata": {},
   "source": [
    "*Your answer here*\n",
    "As very clearly visible in the graph, we can see three points are out of the trend of the training set. Two points are at the left upper corner; one point is at the right lower corner."
   ]
  },
  {
   "cell_type": "markdown",
   "metadata": {},
   "source": [
    "<div class=\"exercise\"><b> Question 2.2 </b></div>"
   ]
  },
  {
   "cell_type": "markdown",
   "metadata": {},
   "source": [
    "Choose `X` as your feature variable and `Y` as your response variable.  Use `statsmodel` to create a Linear Regression model on the training set data.  Store your model in the variable `OutlierOLSModel` and display the model summary."
   ]
  },
  {
   "cell_type": "code",
   "execution_count": 10,
   "metadata": {
    "scrolled": true
   },
   "outputs": [
    {
     "name": "stdout",
     "output_type": "stream",
     "text": [
      "                            OLS Regression Results                            \n",
      "==============================================================================\n",
      "Dep. Variable:                      Y   R-squared:                       0.084\n",
      "Model:                            OLS   Adj. R-squared:                  0.066\n",
      "Method:                 Least Squares   F-statistic:                     4.689\n",
      "Date:                Fri, 17 Sep 2021   Prob (F-statistic):             0.0351\n",
      "Time:                        02:27:44   Log-Likelihood:                -343.59\n",
      "No. Observations:                  53   AIC:                             691.2\n",
      "Df Residuals:                      51   BIC:                             695.1\n",
      "Df Model:                           1                                         \n",
      "Covariance Type:            nonrobust                                         \n",
      "==============================================================================\n",
      "                 coef    std err          t      P>|t|      [0.025      0.975]\n",
      "------------------------------------------------------------------------------\n",
      "const         -9.5063     22.192     -0.428      0.670     -54.059      35.046\n",
      "X             47.3554     21.869      2.165      0.035       3.452      91.259\n",
      "==============================================================================\n",
      "Omnibus:                        2.102   Durbin-Watson:                   1.758\n",
      "Prob(Omnibus):                  0.350   Jarque-Bera (JB):                1.251\n",
      "Skew:                           0.215   Prob(JB):                        0.535\n",
      "Kurtosis:                       3.617   Cond. No.                         1.06\n",
      "==============================================================================\n",
      "\n",
      "Notes:\n",
      "[1] Standard Errors assume that the covariance matrix of the errors is correctly specified.\n"
     ]
    }
   ],
   "source": [
    "# Your code here\n",
    "X_otrain = sm.add_constant(x_otrain)\n",
    "OutlierOLS = sm.OLS(y_otrain, X_otrain)\n",
    "OutlierOLSModel = OutlierOLS.fit()\n",
    "print(OutlierOLSModel.summary())"
   ]
  },
  {
   "cell_type": "markdown",
   "metadata": {},
   "source": [
    "<div class=\"exercise\"><b> Question 2.3 </b></div>"
   ]
  },
  {
   "cell_type": "markdown",
   "metadata": {},
   "source": [
    "You're given the knowledge ahead of time that there are 3 outliers in the training set data.  The test set data doesn't have any outliers.  You want to remove the 3 outliers in order to get the optimal intercept and slope.  In the case that you're sure of the existence and number (3) of outliers ahead of time, one potential brute force method to outlier detection might be to find the best Linear Regression model on all possible subsets of the training set data with 3 points removed.  Using this method, how many times will you have to calculate the Linear Regression coefficients on the training data?"
   ]
  },
  {
   "cell_type": "markdown",
   "metadata": {},
   "source": [
    "*Your answer here.*\n",
    "We have to choose 50 out of 53 points. It means the number of times we will have to calculate the Linear Regression coefficients on the training data are 'Combinations without repetition' C = 53!/((3!)((53-3)!)) = 23426."
   ]
  },
  {
   "cell_type": "markdown",
   "metadata": {},
   "source": [
    "<div class=\"exercise\"><b> Question 2.4 </b></div>"
   ]
  },
  {
   "cell_type": "markdown",
   "metadata": {},
   "source": [
    "In CPSC 4300 we're strong believers that creating heuristic models is a great way to build intuition. In that spirit, construct an approximate algorithm to find the 3 outlier candidates in the training data by taking advantage of the Linear Regression residuals. Place your algorithm in the function `find_outliers_simple`.  It should take the parameters `dataset_x` and `dataset_y`, and `num_outliers` representing your features, response variable values (make sure your response variable is stored as a numpy column vector), and the number of outliers to remove.  The return value should be a list `outlier_indices` representing the indices of the `num_outliers` outliers in the original datasets you passed in.  Run your algorithm and remove the outliers that your algorithm identified, use `statsmodels` to create a Linear Regression model on the remaining training set data, and store your model in the variable `OutlierFreeSimpleModel` display the summary of this model."
   ]
  },
  {
   "cell_type": "code",
   "execution_count": 11,
   "metadata": {},
   "outputs": [],
   "source": [
    "def find_outliers_simple(dataset_x, dataset_y, num_outliers):\n",
    "    \n",
    "    df = pd.concat([dataset_x, dataset_y], axis=1)\n",
    "    # get predictions \n",
    "    x = sm.add_constant(dataset_x)\n",
    "    df['y_pred'] = OutlierOLSModel.predict(x)\n",
    "     \n",
    "    # get residuals\n",
    "    df['y_residual'] = abs(df['Y'] - df['y_pred'])\n",
    "    \n",
    "    # sort by residual\n",
    "    df = df.sort_values(by=['y_residual'], ascending=False)\n",
    "    \n",
    "    # identify top n residuals as outliers\n",
    "    outliers = df[0:num_outliers]\n",
    "    \n",
    "    return outliers.index.tolist();\n",
    "\n",
    "\n",
    "find_outliers_simple(x_otrain, y_otrain, 3)\n",
    "XTrain_out = x_otrain.drop([50, 51, 52])\n",
    "YTrain_out = y_otrain.drop([50, 51, 52])"
   ]
  },
  {
   "cell_type": "code",
   "execution_count": 12,
   "metadata": {
    "scrolled": true
   },
   "outputs": [
    {
     "name": "stdout",
     "output_type": "stream",
     "text": [
      "                                 OLS Regression Results                                \n",
      "=======================================================================================\n",
      "Dep. Variable:                      Y   R-squared (uncentered):                   0.400\n",
      "Model:                            OLS   Adj. R-squared (uncentered):              0.388\n",
      "Method:                 Least Squares   F-statistic:                              32.73\n",
      "Date:                Fri, 17 Sep 2021   Prob (F-statistic):                    6.28e-07\n",
      "Time:                        02:27:55   Log-Likelihood:                         -309.76\n",
      "No. Observations:                  50   AIC:                                      621.5\n",
      "Df Residuals:                      49   BIC:                                      623.4\n",
      "Df Model:                           1                                                  \n",
      "Covariance Type:            nonrobust                                                  \n",
      "==============================================================================\n",
      "                 coef    std err          t      P>|t|      [0.025      0.975]\n",
      "------------------------------------------------------------------------------\n",
      "X            105.2667     18.400      5.721      0.000      68.291     142.242\n",
      "==============================================================================\n",
      "Omnibus:                        0.600   Durbin-Watson:                   1.648\n",
      "Prob(Omnibus):                  0.741   Jarque-Bera (JB):                0.675\n",
      "Skew:                          -0.237   Prob(JB):                        0.714\n",
      "Kurtosis:                       2.686   Cond. No.                         1.00\n",
      "==============================================================================\n",
      "\n",
      "Notes:\n",
      "[1] R² is computed without centering (uncentered) since the model does not contain a constant.\n",
      "[2] Standard Errors assume that the covariance matrix of the errors is correctly specified.\n"
     ]
    }
   ],
   "source": [
    "# Your code here\n",
    "OutlierFreeSimpleModel = sm.OLS(YTrain_out, XTrain_out)\n",
    "OutlierFreeSimpleModel = OutlierFreeSimpleModel.fit()\n",
    "  \n",
    "# printing the summary table\n",
    "print(OutlierFreeSimpleModel.summary())"
   ]
  },
  {
   "cell_type": "code",
   "execution_count": 13,
   "metadata": {
    "scrolled": false
   },
   "outputs": [],
   "source": [
    "# Your code here\n",
    "X_otrain = sm.add_constant(x_otrain)\n",
    "OutlierOLS = sm.OLS(y_otrain, X_otrain)\n",
    "OutlierOLSModel = OutlierOLS.fit()\n",
    "OutlierFreeSimpleModel = sm.OLS(YTrain_out, XTrain_out)\n",
    "OutlierFreeSimpleModel = OutlierFreeSimpleModel.fit()\n",
    "y_otrainpred = OutlierOLSModel.predict(X_otrain)\n",
    "y_oftrainpred = OutlierFreeSimpleModel.predict(XTrain_out)"
   ]
  },
  {
   "cell_type": "markdown",
   "metadata": {},
   "source": [
    "<div class=\"exercise\"><b> Question 2.5 </b></div>"
   ]
  },
  {
   "cell_type": "markdown",
   "metadata": {},
   "source": [
    "Create a figure with two subplots. The first is a scatterplot where the color of the points denotes the outliers from the non-outliers in the training set, and include two regression lines on this scatterplot: one fitted with the outliers included and one fitted with the outlier removed (all on the training set).  The second plot should include a scatterplot of points from the test set with the same two regression lines fitted on the training set: with and without outliers.  Visually which model fits the test set data more closely?"
   ]
  },
  {
   "cell_type": "code",
   "execution_count": 14,
   "metadata": {},
   "outputs": [
    {
     "data": {
      "text/plain": [
       "<matplotlib.legend.Legend at 0x153bfcc0340>"
      ]
     },
     "execution_count": 14,
     "metadata": {},
     "output_type": "execute_result"
    },
    {
     "data": {
      "image/png": "[encoded data removed]",
      "text/plain": [
       "<Figure size 1080x360 with 2 Axes>"
      ]
     },
     "metadata": {
      "needs_background": "light"
     },
     "output_type": "display_data"
    }
   ],
   "source": [
    "# Your code here\n",
    "testset = pd.read_csv(\"outliers_test.csv\")\n",
    "x_otest = testset['X']\n",
    "y_otest = testset['Y']\n",
    "fig, (ax1, ax2) = plt.subplots(1,2, figsize = (15, 5))\n",
    "ax1.scatter(x_otrain, y_otrain, color='k',label='Outliers')\n",
    "ax1.scatter(XTrain_out, YTrain_out, color='tab:orange',label ='Non-outliers')\n",
    "ax1.scatter(x_otrain, y_otrainpred, color='g',label='Regression line with outliers')\n",
    "ax1.scatter(XTrain_out, y_oftrainpred, color='m',label='Regression line without outliers')\n",
    "ax1.set_title('Training Set')\n",
    "ax1.set_xlabel('X')\n",
    "ax1.set_ylabel('Y')\n",
    "ax1.legend(loc=3)\n",
    "ax2.scatter(x_otest, y_otest, label='Test set', color='r')\n",
    "ax2.scatter(x_otrain, y_otrainpred, color='g',label='Regression line with outliers')\n",
    "ax2.scatter(XTrain_out, y_oftrainpred, color='m',label='Regression line without outliers')\n",
    "ax2.set_title('Test Set')\n",
    "ax2.set_xlabel('X')\n",
    "ax2.set_ylabel('Y')\n",
    "ax2.legend(loc=3)"
   ]
  },
  {
   "cell_type": "markdown",
   "metadata": {},
   "source": [
    "*Your answer here*\n",
    "It can be seen that the model without outliers fits more closely than the model with outliers."
   ]
  },
  {
   "cell_type": "markdown",
   "metadata": {},
   "source": [
    "<div class=\"exercise\"><b> Question 2.6 </b></div>"
   ]
  },
  {
   "cell_type": "markdown",
   "metadata": {},
   "source": [
    "Calculate the $R^2$ score for the `OutlierOLSModel` and the `OutlierFreeSimpleModel` on the test set data.  Which model produces a better $R^2$ score?"
   ]
  },
  {
   "cell_type": "code",
   "execution_count": 15,
   "metadata": {},
   "outputs": [
    {
     "name": "stdout",
     "output_type": "stream",
     "text": [
      "r2_outliers is 0.34085656043405654\n",
      "r2_outlierfree is 0.4579491642913984\n",
      "The model without outliers produces a better R^2 score\n"
     ]
    }
   ],
   "source": [
    "# Your code here\n",
    "X_otest = sm.add_constant(x_otest)\n",
    "y_otestpred = OutlierOLSModel.predict(X_otest)\n",
    "y_oftestpred = OutlierFreeSimpleModel.predict(x_otest)\n",
    "r2_outliers = r2_score(y_otest, y_otestpred)\n",
    "r2_woutliers = r2_score(y_otest, y_oftestpred)\n",
    "print('r2_outliers is', r2_outliers)\n",
    "print('r2_outlierfree is', r2_woutliers)\n",
    "print('The model without outliers produces a better R^2 score')"
   ]
  },
  {
   "cell_type": "markdown",
   "metadata": {},
   "source": [
    "<div class=\"exercise\"><b> Question 2.7 </b></div>"
   ]
  },
  {
   "cell_type": "markdown",
   "metadata": {},
   "source": [
    "One potential problem with the brute force outlier detection approach in 4.3 and the heuristic algorithm you constructed 4.4 is that they assume prior knowledge of the number of outliers.  In general you can't expect to know ahead of time the number of outliers in your dataset.  Propose how you would alter and/or use the algorithm you constructed in 4.4 to create a more general heuristic (i.e. one which doesn't presuppose the number of outliers) for finding outliers in your dataset.  \n",
    "\n",
    "**Hints**:\n",
    "   1. Should outliers be removed one at a time or in batches?\n",
    "   2. What metric would you use and how would you use it to determine how many outliers to consider removing?"
   ]
  },
  {
   "cell_type": "markdown",
   "metadata": {},
   "source": [
    "We should remove outliers one at a time. Please take a look at question 2.6; we can see the model without outliers produces a better R^2 score as an idea to determine the number of outliers to consider removing.\n",
    "1. At first, we have to fit the original model (with outliers) and calculate the R^2 score.\n",
    "2. Develop the heuristic algorithm (question 2.4) and run with parameter 'num_outliers'. Start with num_outliers = 1 and then increase gradually; for each certain num_outliers we calculate the new R^2 score respectively.\n",
    "3. We will stop when num_outliers = n provides the new R^2 score is greater than R^2 score of the original model with outliers and num_outliers = n + 1 provides the new R^2 score is less than R^2 score of the original model with outliers. It means n is the number of outliers.\n",
    "4. At that time, we export the number of outliers through parameter num_outliers."
   ]
  },
  {
   "cell_type": "code",
   "execution_count": null,
   "metadata": {},
   "outputs": [],
   "source": []
  }
 ],
 "metadata": {
  "anaconda-cloud": {},
  "kernelspec": {
   "display_name": "Python 3",
   "language": "python",
   "name": "python3"
  },
  "language_info": {
   "codemirror_mode": {
    "name": "ipython",
    "version": 3
   },
   "file_extension": ".py",
   "mimetype": "text/x-python",
   "name": "python",
   "nbconvert_exporter": "python",
   "pygments_lexer": "ipython3",
   "version": "3.8.8"
  }
 },
 "nbformat": 4,
 "nbformat_minor": 4
}
